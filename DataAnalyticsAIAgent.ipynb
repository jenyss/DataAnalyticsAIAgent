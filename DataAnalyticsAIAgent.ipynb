{
 "cells": [
  {
   "cell_type": "markdown",
   "id": "53c817b5-3d97-4ef0-b672-5f7877fff464",
   "metadata": {},
   "source": [
    "<h1>Data Analytics AI Agent</h1>"
   ]
  },
  {
   "cell_type": "code",
   "execution_count": null,
   "id": "6912b750-e226-4b38-a649-6a219c7dd01b",
   "metadata": {},
   "outputs": [],
   "source": [
    "%pip install langchain langgraph pandas python-dotenv duckdb numpy"
   ]
  },
  {
   "cell_type": "code",
   "execution_count": null,
   "id": "4bf2afe5-3f54-4617-8916-9537d0db36c4",
   "metadata": {},
   "outputs": [],
   "source": [
    "import pandas as pd\n",
    "import numpy as np\n",
    "import duckdb\n",
    "import json\n",
    "from typing import TypedDict, Optional, List, Dict, Union, Any\n",
    "from langchain_openai import ChatOpenAI\n",
    "from langchain.agents import create_react_agent, AgentExecutor\n",
    "from langchain_core.tools import tool\n",
    "from langchain.prompts import PromptTemplate\n",
    "from IPython.display import display\n",
    "\n",
    "import os\n",
    "\n",
    "from dotenv import load_dotenv\n",
    "_ = load_dotenv()\n",
    "\n",
    "import plotly.express as px\n",
    "import plotly.graph_objects as go\n",
    "import plotly.io as pio"
   ]
  },
  {
   "cell_type": "code",
   "execution_count": 3,
   "id": "409cd240-b6c8-4148-8322-2b57b7eea980",
   "metadata": {},
   "outputs": [],
   "source": [
    "def preprocess_dataframe(df: pd.DataFrame) -> pd.DataFrame:\n",
    "    \"\"\"Robust preprocessing of DataFrame to handle empty values.\"\"\"\n",
    "    # Convert empty strings and whitespace to None\n",
    "    df = df.replace(r'^\\s*$', None, regex=True)\n",
    "    # Convert NaN strings to None\n",
    "    df = df.replace(['nan', 'NaN', 'null'], None)\n",
    "    # Convert pandas NaN to None\n",
    "    df = df.where(pd.notnull(df), None)\n",
    "    return df\n",
    "\n",
    "# Tool definitions with single string input\n",
    "@tool\n",
    "def preview_excel_structure(input_str: str) -> str:\n",
    "    \"\"\"Use this first to examine the Excel file structure and data types. \n",
    "    The input should be a JSON string with format: {\"file_name\": \"your_file.xlsx\"}\"\"\"\n",
    "    try:\n",
    "        data = json.loads(input_str)\n",
    "        file_name = data.get(\"file_name\")\n",
    "        if not file_name:\n",
    "            return json.dumps({\"error\": \"File name must be provided\"})\n",
    "            \n",
    "        df = pd.read_excel(file_name)\n",
    "        df = preprocess_dataframe(df)  # Apply preprocessing\n",
    "        df_sample = df.head(3).astype(str)\n",
    "        print(\"✅ Preview successful\")\n",
    "        display(df_sample)\n",
    "        return json.dumps({\n",
    "            \"result\": {\n",
    "                \"columns\": df.columns.tolist(),\n",
    "                \"dtypes\": df.dtypes.astype(str).to_dict(),\n",
    "                \"sample_rows\": df_sample.to_dict(orient=\"records\")\n",
    "            }\n",
    "        })\n",
    "    except Exception as e:\n",
    "        return json.dumps({\"error\": str(e)})\n",
    "        "
   ]
  },
  {
   "cell_type": "code",
   "execution_count": 4,
   "id": "2b096862-0567-48ea-820d-cb7c18e535cc",
   "metadata": {},
   "outputs": [],
   "source": [
    "@tool\n",
    "def simple_dataframe_query(input_str: str) -> str:\n",
    "    \"\"\"Use this for simple Pandas operations on the dataframe.\n",
    "    The input should be a JSON string with format:\n",
    "    {\"file_name\": \"your_file.xlsx\", \"query\": \"your pandas expression\"}\"\"\"\n",
    "    try:\n",
    "        data = json.loads(input_str)\n",
    "        file_name = data.get(\"file_name\")\n",
    "        query = data.get(\"query\")\n",
    "        if not file_name or not query:\n",
    "            return json.dumps({\"error\": \"Both file_name and query must be provided\"})\n",
    "\n",
    "        print(\"\\n🔍 Executing Pandas query:\")\n",
    "        print(query)\n",
    "\n",
    "        global state  # Ensure state is accessible\n",
    "        if state is not None:\n",
    "            state['last_query'] = query\n",
    "        \n",
    "        df = pd.read_excel(file_name)\n",
    "        df = preprocess_dataframe(df)  # Apply preprocessing\n",
    "        result = eval(query, {\"df\": df, \"pd\": pd})\n",
    "        \n",
    "        if isinstance(result, pd.DataFrame):\n",
    "            output = {\n",
    "                \"result\": {\n",
    "                    \"columns\": result.columns.tolist(),\n",
    "                    \"rows\": result.fillna(None).to_dict(orient=\"records\")\n",
    "                }\n",
    "            }\n",
    "        else:\n",
    "            output = {\"result\": str(result)}\n",
    "        \n",
    "        print(\"✅ Query successful\")\n",
    "        if isinstance(result, pd.DataFrame):\n",
    "            display(result)\n",
    "        else:\n",
    "            print(result)\n",
    "            \n",
    "        return json.dumps(output)\n",
    "    except Exception as e:\n",
    "        return json.dumps({\"error\": str(e)})"
   ]
  },
  {
   "cell_type": "code",
   "execution_count": 5,
   "id": "7945ede2-8a37-4d4f-b8e6-b85847829833",
   "metadata": {},
   "outputs": [],
   "source": [
    "@tool\n",
    "def complex_duckdb_query(input_str: str) -> str:\n",
    "    \"\"\"Use this for complex SQL operations (GROUP BY, aggregations, etc.).\n",
    "    The input should be a JSON string with format: \n",
    "    {\"file_name\": \"your_file.xlsx\", \"query\": \"your SQL query\"}\n",
    "    Note: Use 'data' as the table name in your SQL queries.\"\"\"\n",
    "    try:\n",
    "        data = json.loads(input_str)\n",
    "        file_name = data.get(\"file_name\")\n",
    "        query = data.get(\"query\")\n",
    "        if not file_name or not query:\n",
    "            return json.dumps({\"error\": \"Both file_name and query must be provided\"})\n",
    "\n",
    "        print(\"\\n🔍 Executing DuckDB query:\")\n",
    "        print(query)\n",
    "\n",
    "        # ✅ Set the last executed query in the global state\n",
    "        global state  # Ensure state is accessible\n",
    "        if state is not None:\n",
    "            state['last_query'] = query\n",
    "        # state['last_query'] = str(query)\n",
    "        \n",
    "        # Read and preprocess the Excel file to handle empty values\n",
    "        df = pd.read_excel(file_name)\n",
    "        df = preprocess_dataframe(df)  # Clean the data upfront\n",
    "        \n",
    "        with duckdb.connect() as con:\n",
    "            # Register dataframe with a consistent table name 'data'\n",
    "            con.register(\"data\", df)\n",
    "            result = con.execute(query).fetchdf()\n",
    "            print(\"✅ Query successful\")\n",
    "            display(result)\n",
    "            \n",
    "            # Handle different types of results robustly\n",
    "            if result is None:\n",
    "                return json.dumps({\"result\": None})\n",
    "                \n",
    "            if isinstance(result, pd.DataFrame):\n",
    "                # Handle DataFrame results\n",
    "                try:\n",
    "                    # Replace various null/nan types with None\n",
    "                    df_processed = result.copy()\n",
    "                    \n",
    "                    # Handle infinite values\n",
    "                    df_processed = df_processed.replace([float('inf'), -float('inf')], None)\n",
    "                    \n",
    "                    # Replace numpy NaN, pandas NA, and other null types with None\n",
    "                    df_processed = df_processed.where(pd.notna(df_processed), None)\n",
    "                    \n",
    "                    # Ensure all values are JSON serializable\n",
    "                    for column in df_processed.columns:\n",
    "                        if df_processed[column].dtype == 'object':\n",
    "                            df_processed[column] = df_processed[column].apply(\n",
    "                                lambda x: str(x) if x is not None else None\n",
    "                            )\n",
    "                    \n",
    "                    return json.dumps({\n",
    "                        \"result\": {\n",
    "                            \"columns\": df_processed.columns.tolist(),\n",
    "                            \"rows\": df_processed.to_dict(orient=\"records\")\n",
    "                        }\n",
    "                    })\n",
    "                except Exception as e:\n",
    "                    return json.dumps({\n",
    "                        \"error\": f\"Error processing DataFrame: {str(e)}\",\n",
    "                        \"result\": result.to_string()  # Fallback to string representation\n",
    "                    })\n",
    "            else:\n",
    "                # Handle scalar or other types of results\n",
    "                try:\n",
    "                    return json.dumps({\"result\": result})\n",
    "                except TypeError:\n",
    "                    return json.dumps({\n",
    "                        \"result\": str(result)  # Fallback to string representation\n",
    "                    })\n",
    "            \n",
    "    except Exception as e:\n",
    "        return json.dumps({\"error\": str(e)})"
   ]
  },
  {
   "cell_type": "code",
   "execution_count": 6,
   "id": "1ce67e8c-2187-4840-9502-b822f1e58c87",
   "metadata": {},
   "outputs": [],
   "source": [
    "@tool\n",
    "def create_visualization(input_str: str) -> str:\n",
    "    \"\"\"Create and immediately display various types of visualizations.\"\"\"\n",
    "    try:\n",
    "        # Parse input\n",
    "        params = json.loads(input_str)\n",
    "        \n",
    "        # Extract parameters\n",
    "        data = params.get(\"data\")\n",
    "        plot_type = params.get(\"plot_type\", \"line\")  # Default to line plot\n",
    "        x = params.get(\"x\")\n",
    "        y = params.get(\"y\")\n",
    "        title = params.get(\"title\", \"\")\n",
    "        color = params.get(\"color\")\n",
    "        \n",
    "        # Additional parameters\n",
    "        orientation = params.get(\"orientation\", \"v\")  # For bar charts\n",
    "        barmode = params.get(\"barmode\", \"group\")     # For bar charts\n",
    "        size = params.get(\"size\")                    # For bubble charts\n",
    "        nbins = params.get(\"nbins\")                  # For histograms\n",
    "        \n",
    "        # Validate required parameters\n",
    "        if not data or not x:\n",
    "            return \"❌ Error: Missing required parameters: data and x.\"\n",
    "            \n",
    "        # Convert data to DataFrame\n",
    "        if isinstance(data, dict) and \"result\" in data:\n",
    "            if \"rows\" in data[\"result\"]:\n",
    "                df = pd.DataFrame(data[\"result\"][\"rows\"])\n",
    "            else:\n",
    "                return \"❌ Error: Invalid data format.\"\n",
    "        else:\n",
    "            return \"❌ Error: Invalid data format.\"\n",
    "            \n",
    "        # Common layout settings\n",
    "        layout_settings = {\n",
    "            'title': {\n",
    "                'text': title,\n",
    "                'x': 0.5,\n",
    "                'xanchor': 'center',\n",
    "                'font': dict(size=16)\n",
    "            },\n",
    "            'plot_bgcolor': 'white',\n",
    "            'paper_bgcolor': 'white',\n",
    "            'font': dict(size=12),\n",
    "            'margin': dict(l=50, r=50, t=50, b=50),\n",
    "            'height': 600,\n",
    "            'width': 800,\n",
    "            'template': 'plotly_white'\n",
    "        }\n",
    "        \n",
    "        # Create visualization based on plot type\n",
    "        if plot_type == \"line\":\n",
    "            fig = px.line(df, x=x, y=y, color=color, title=title)\n",
    "            fig.update_traces(mode='lines+markers')  # Add markers\n",
    "            \n",
    "        elif plot_type == \"bar\":\n",
    "            fig = px.bar(df, x=x, y=y, color=color, title=title,\n",
    "                        barmode=barmode, orientation=orientation)\n",
    "            \n",
    "        elif plot_type == \"scatter\":\n",
    "            fig = px.scatter(df, x=x, y=y, color=color, size=size, \n",
    "                           title=title)\n",
    "            \n",
    "        elif plot_type == \"box\":\n",
    "            fig = px.box(df, x=x, y=y, color=color, title=title)\n",
    "            \n",
    "        elif plot_type == \"histogram\":\n",
    "            fig = px.histogram(df, x=x, color=color, nbins=nbins, \n",
    "                             title=title)\n",
    "            \n",
    "        elif plot_type == \"pie\":\n",
    "            if not y:  # For pie charts, y is optional (count by default)\n",
    "                fig = px.pie(df, names=x, color=x, title=title)\n",
    "            else:\n",
    "                fig = px.pie(df, names=x, values=y, title=title)\n",
    "                \n",
    "        elif plot_type == \"heatmap\":\n",
    "            # Pivot data if necessary\n",
    "            if len(df.columns) < 3:  # If data isn't already in matrix form\n",
    "                pivot_df = df.pivot(index=y, columns=x, values=color if color else 'value')\n",
    "                fig = px.imshow(pivot_df, title=title)\n",
    "            else:\n",
    "                fig = px.imshow(df, title=title)\n",
    "            \n",
    "        else:\n",
    "            return f\"❌ Error: Unsupported plot type: {plot_type}.\"\n",
    "        \n",
    "        # Update layout for all chart types\n",
    "        fig.update_layout(**layout_settings)\n",
    "        \n",
    "        # Add gridlines (except for pie and heatmap)\n",
    "        if plot_type not in ['pie', 'heatmap']:\n",
    "            fig.update_xaxes(\n",
    "                showgrid=True, \n",
    "                gridwidth=1, \n",
    "                gridcolor='LightGray',\n",
    "                title_text=x.replace('_', ' ').title() if x else ''\n",
    "            )\n",
    "            if y:  # Only add y-axis if it exists\n",
    "                fig.update_yaxes(\n",
    "                    showgrid=True, \n",
    "                    gridwidth=1, \n",
    "                    gridcolor='LightGray',\n",
    "                    title_text=y.replace('_', ' ').title()\n",
    "                )\n",
    "        \n",
    "        # Display the visualization immediately\n",
    "        fig.show()\n",
    "        \n",
    "        return \"✅ Visualization displayed successfully.\"\n",
    "        \n",
    "    except Exception as e:\n",
    "        return f\"❌ Visualization error: {str(e)}.\"\n"
   ]
  },
  {
   "cell_type": "code",
   "execution_count": 7,
   "id": "54f95078-e7e1-47b1-b63f-400e41c36a45",
   "metadata": {},
   "outputs": [],
   "source": [
    "# State management\n",
    "def create_agent_state(file_name: str, user_query: str) -> dict:\n",
    "    return {\n",
    "        \"file_name\": file_name,\n",
    "        \"user_query\": user_query,\n",
    "        \"messages\": [],\n",
    "        \"preview_data\": None,\n",
    "        \"last_query\": None,\n",
    "        \"query_result\": None,\n",
    "        \"error\": None,\n",
    "    }\n",
    "\n",
    "def print_state(state: dict, title: str = \"Current State\"):\n",
    "    \"\"\"Enhanced state printing with proper error handling and structured output.\"\"\"\n",
    "    \n",
    "    print(f\"\\n{'='*20} {title} {'='*20}\")\n",
    "    print(f\"File: {state.get('file_name', 'N/A')}\")\n",
    "    print(f\"User Query: {state.get('user_query', 'N/A')}\")\n",
    "    \n",
    "    # Display errors if present\n",
    "    if state.get('error'):\n",
    "        print(f\"\\n🔴 Error: {state['error']}\")\n",
    "        \n",
    "    # Show the last executed query\n",
    "    if state.get('last_query'):\n",
    "        print(\"\\n📝 Last Query:\")\n",
    "        print(state['last_query'])\n",
    "\n",
    "    # Print preview data\n",
    "    if state.get('preview_data'):\n",
    "        print(\"\\n👀 Preview Data:\")\n",
    "        print(state['preview_data'])\n",
    "\n",
    "    # Print messages (the final agent answer typically lands here)\n",
    "    if state.get('messages'):\n",
    "        print(\"\\n💬 Agent Messages:\")\n",
    "        for i, msg in enumerate(state[\"messages\"], start=1):\n",
    "            print(f\" {i}. {msg}\")\n",
    "\n",
    "    # Print query results (tables or text outputs)\n",
    "    if state.get('query_result'):\n",
    "        print(\"\\n✅ Query Result:\")\n",
    "        try:\n",
    "            if isinstance(state['query_result'], dict):\n",
    "                # If your code stores data under state['query_result']['data']\n",
    "                data_dict = state['query_result'].get('data', {})\n",
    "                # data_dict is the typical {\"columns\": [...], \"rows\": [...]}\n",
    "                if 'rows' in data_dict:\n",
    "                    df = pd.DataFrame(data_dict['rows'])\n",
    "                    print(df)\n",
    "                else:\n",
    "                    print(json.dumps(data_dict, indent=2))\n",
    "        except Exception as e:\n",
    "            print(f\"❌ Error displaying state: {str(e)}\")\n",
    "    \n",
    "    print(f\"\\n{'='*50}\\n\")\n",
    "\n",
    "\n",
    "# Tools list\n",
    "tools = [preview_excel_structure, complex_duckdb_query, simple_dataframe_query, create_visualization]\n",
    "\n",
    "# System prompt\n",
    "SYSTEM_PROMPT = \"\"\"You are an Excel analysis expert that helps users analyze Excel files using SQL and Pandas.\n",
    "\n",
    "IMPORTANT WORKFLOW:\n",
    "1. ALWAYS start by using preview_excel_structure to understand the data structure\n",
    "2. Based on the preview, choose the appropriate tool:\n",
    "   - For grouping, aggregations, or complex calculations: use complex_duckdb_query\n",
    "   - For simple row operations or basic calculations: use simple_dataframe_query\n",
    "3. **Before executing a SQL query, ALWAYS validate if it correctly follows the user query**:\n",
    "   - Ensure **only ticker symbols with strictly positive values** are included.\n",
    "   - **Exclude any tickers** that have even one **negative or zero** value.\n",
    "   - Ensure **NULL values are handled properly** in averages.\n",
    "   - The **\"performance\" column must be ignored**.\n",
    "   - If the SQL query does not meet these conditions, **correct it BEFORE execution**.\n",
    "4. Once validated, execute the query and return the result.\n",
    "5. If user explicitly requests a visualization/plot/chart/graph or when data would be better understood visually (e.g Comparing multiple values or trends, Showing distributions or patterns):\n",
    "   a. FIRST: Query the data using complex_duckdb_query or simple_dataframe_query\n",
    "   b. THEN: ALWAYS pass that query result to create_visualization\n",
    "\n",
    "**For DuckDB SQL queries, ALWAYS:**\n",
    "1. Handle empty cells in calculations:\n",
    "   - For sums and averages, count only non-null values\n",
    "   - When calculating averages across multiple columns:\n",
    "     * Sum only non-null values from each columne\n",
    "     * Divide by the count of non-null values\n",
    "   * For complex calculations, use WITH clauses to split steps, example: WITH individual_calcs AS (SELECT id, CASE WHEN \"Value\" IS NOT NULL THEN \"Value\" END as clean_value FROM data), group_calcs AS (SELECT group_col, SUM(clean_value) / NULLIF(COUNT(clean_value), 0) as avg_value FROM individual_calcs GROUP BY group_col) SELECT * FROM group_calcs\n",
    "\n",
    "2. Cast strings to proper types:\n",
    "   CAST(column AS DOUBLE)\n",
    "\n",
    "3. For numeric ranges use:\n",
    "   CASE WHEN col >= 0 AND col < 5 THEN '0-5' WHEN col >= 5 AND col < 10 THEN '5-10' END as range\n",
    "\n",
    "4. Include all non-aggregated columns in GROUP BY\n",
    "\n",
    "5. Use double quotes for columns with spaces: \"Column Name\"\n",
    "\n",
    "6. For complex aggregations:\n",
    "   - First calculate individual metrics\n",
    "   - Then group and aggregate\n",
    "   - Finally format output\n",
    "   Example query: WITH symbol_metrics AS (SELECT \"Symbol\", (COALESCE(\"Month1\", 0) + COALESCE(\"Month2\", 0)) / NULLIF(CAST(\"Month1\" IS NOT NULL AS INTEGER) + CAST(\"Month2\" IS NOT NULL AS INTEGER), 0) as avg_performance FROM data), group_metrics AS (SELECT group_col, AVG(avg_performance) as group_performance, STRING_AGG(Symbol, ', ') as symbols_in_group FROM symbol_metrics GROUP BY group_col) SELECT * FROM group_metrics\n",
    "\n",
    "**For Pandas queries:**\n",
    "1. Reference the dataframe as 'df'\n",
    "2. For ranges use: pd.cut(df['column'], bins=[0,5,10], labels=['0-5','5-10'])\n",
    "3. For aggregations use: df.groupby().agg()\n",
    "\n",
    "IMPORTANT PATTERNS FOR COMPLEX ANALYSIS:\n",
    "1. Calculate individual metrics first:\n",
    "   - Handle NULL values with COALESCE\n",
    "   - Count valid values using CAST(IS NOT NULL AS INTEGER)\n",
    "2. Group results:\n",
    "   - Use proper group by\n",
    "   - Include supporting information\n",
    "3. Format final output:\n",
    "   - Order results if needed\n",
    "   - Include all requested information\n",
    "\n",
    "**VISUALIZATION GUIDELINES:**\n",
    "1. Choosing the right plot type:\n",
    "   - Line plots: Time series, trends over a continuous variable\n",
    "   - Bar plots: Comparing categories, showing distributions\n",
    "   - Scatter plots: Relationships between two variables\n",
    "   - Pie charts: Parts of a whole, proportions\n",
    "   - Box plots: Distribution and outliers\n",
    "   - Histograms: Distribution of a single variable\n",
    "\n",
    "2. Visualization workflow:\n",
    "   a. First query the data using appropriate tool\n",
    "   b. Pass the query result to create_visualization with proper parameters\n",
    "   c. Ensure proper aggregation if needed\n",
    "\n",
    "Example visualization workflow:\n",
    "1. Query: \"Show me monthly sales trends\"\n",
    "   - First use complex_duckdb_query to aggregate data by month\n",
    "   - Then pass result to create_visualization with plot_type=\"line\"\n",
    "\n",
    "2. Query: \"Compare sales by category\"\n",
    "   - First use complex_duckdb_query to group by category\n",
    "   - Then pass result to create_visualization with plot_type=\"bar\"\n",
    "\n",
    "IMPORTANT: All tool inputs must be properly formatted JSON strings. Examples:\n",
    "\n",
    "1. Preview Excel:\n",
    "{\"file_name\": \"example.xlsx\"}\n",
    "\n",
    "2. DuckDB Query with proper empty value handling:\n",
    "{\"file_name\": \"example.xlsx\", \"query\": \"WITH metrics AS (SELECT CASE WHEN price >= 0 AND price < 5 THEN '0-5' ELSE '5+' END as range, value FROM data WHERE value IS NOT NULL) SELECT range, AVG(value) as avg_val FROM metrics GROUP BY range\"}\n",
    "\n",
    "3. Pandas Query:\n",
    "{\"file_name\": \"example.xlsx\", \"query\": \"df.groupby(pd.cut(df['col'], bins=[0,5,10])).agg(['mean', 'count'])\"}\n",
    "\n",
    "**Visualization Output Format (CRITICAL):**\n",
    "1. When creating visualizations, ALWAYS return a properly formatted JSON with:\n",
    "   ```json\n",
    "   {\n",
    "      \"data\": {\n",
    "        \"result\": {\n",
    "          \"rows\": [...],\n",
    "          \"columns\": [...]\n",
    "        }\n",
    "      },\n",
    "      \"plot_type\": \"...\",\n",
    "      \"x\": \"...\",\n",
    "      \"y\": \"...\",\n",
    "      \"color\": \"...\",\n",
    "      \"title\": \"...\"\n",
    "    }\n",
    "   ```\n",
    "   \n",
    "2. The plotly figure MUST include proper layout settings:\n",
    "   - height and width specifications\n",
    "   - proper axis titles\n",
    "   - grid settings\n",
    "   - template specification\n",
    "\n",
    "3. NEVER return raw figure objects or display directly - always convert to JSON\n",
    "\n",
    "**Remember:**\n",
    "1. Tool inputs must be valid JSON strings\n",
    "2. Preview data first\n",
    "3. Always exclude empty/null values from calculations\n",
    "4. Use proper column references\n",
    "5. Queries must be on a single line (no line breaks in JSON strings)\n",
    "6. For complex analyses:\n",
    "   - Break calculations into steps using WITH clauses\n",
    "   - Calculate individual metrics before grouping\n",
    "   - Include supporting information (counts, lists) in output\"\"\"\n",
    "\n",
    "\n",
    "# Agent setup remains the same\n",
    "def setup_agent(debug=True):\n",
    "    \"\"\"Initialize the ReAct agent.\"\"\"\n",
    "    llm = ChatOpenAI(model=\"gpt-4o\", temperature=0)\n",
    "    \n",
    "    # Create prompt template with required variables\n",
    "    prompt = PromptTemplate.from_template(\n",
    "        template=\"\"\"Answer the following questions as best you can.\n",
    "\n",
    "{system_prompt}\n",
    "\n",
    "You have access to the following tools:\n",
    "\n",
    "{tools}\n",
    "\n",
    "Use the following format:\n",
    "\n",
    "Question: the input question you must answer\n",
    "Thought: you should always think about what to do\n",
    "Action: the action to take, should be one of [{tool_names}]\n",
    "Action Input: the input to the action\n",
    "Observation: the result of the action\n",
    "... (this Thought/Action/Action Input/Observation can repeat N times)\n",
    "Thought: I now know the final answer\n",
    "Final Answer: the final answer to the original input question\n",
    "\n",
    "Question: {input}\n",
    "{agent_scratchpad}\"\"\")\n",
    "    \n",
    "    # Get tool names for the template\n",
    "    tool_names = [tool.name for tool in tools]\n",
    "        \n",
    "    # Create the ReAct agent\n",
    "    agent = create_react_agent(\n",
    "        llm=llm,\n",
    "        tools=tools,\n",
    "        prompt=prompt\n",
    "    )\n",
    "        \n",
    "    return AgentExecutor(\n",
    "        agent=agent,\n",
    "        tools=tools,\n",
    "        verbose=debug,\n",
    "        max_iterations=6,\n",
    "        handle_parsing_errors=True, \n",
    "        memory=None  # Ensure no memory is used\n",
    "    )\n",
    "\n",
    "\n",
    "state = None  # Initially set to None\n",
    "\n",
    "def process_excel_query(file_name: str, user_query: str, debug: bool = True) -> dict:\n",
    "    global state  # Declare `state` as global so tools can access it\n",
    "\n",
    "    state = create_agent_state(file_name, user_query)\n",
    "    intermediate_steps = []  # Ensure intermediate_steps starts empty\n",
    "    state['query_result'] = None  # Ensure query results are cleared\n",
    "    state['messages'] = []  # Ensure messages are emptied\n",
    "\n",
    "    print(f\"==================== RAW INITIAL STATE:\\n{state}\\n====================\")\n",
    "    \n",
    "    try:\n",
    "        agent = setup_agent(debug=debug)\n",
    "        input_query = f\"{user_query} Using the file: {file_name}\"\n",
    "        \n",
    "        if debug:\n",
    "            print(f\"\\n🎬 Starting Agent Execution\\nQuery: {input_query}\")\n",
    "            print_state(state, \"Initial State\")\n",
    "        \n",
    "        # 1) Run the agent\n",
    "        result = agent.invoke({\n",
    "            \"input\": input_query,\n",
    "            \"system_prompt\": SYSTEM_PROMPT\n",
    "        })\n",
    "\n",
    "        if debug:\n",
    "            print(\"\\n🔍 DEBUG: Agent execution result ->\", json.dumps(result, indent=2))\n",
    "        \n",
    "        # 2) Grab the intermediate steps (tools used)\n",
    "        intermediate_steps = result.get('intermediate_steps', [])\n",
    "\n",
    "        if debug:\n",
    "            print(\"\\n🔍 DEBUG: Checking intermediate_steps ->\", json.dumps(intermediate_steps, indent=2))\n",
    "\n",
    "        parsed_output = None\n",
    "\n",
    "        # 3) Parse the LAST tool’s output if it’s JSON\n",
    "        if intermediate_steps:\n",
    "            last_step = intermediate_steps[-1]\n",
    "            last_tool = last_step[0].tool\n",
    "            last_output = last_step[1]\n",
    "\n",
    "            # This try/except is ONLY for the tool’s JSON\n",
    "            try:\n",
    "                # Attempt to parse the JSON from the tool if it *is* JSON\n",
    "                parsed_output = json.loads(last_output) if isinstance(last_output, str) else last_output\n",
    "\n",
    "                # Store “which tool / input” in state\n",
    "                state['last_query'] = json.dumps({\n",
    "                    \"tool\": last_tool,\n",
    "                    \"input\": last_step[0].tool_input\n",
    "                }, indent=2)\n",
    "\n",
    "                if debug:\n",
    "                    print(\"\\n✅ DEBUG: Parsed tool output ->\", json.dumps(parsed_output, indent=2))\n",
    "\n",
    "                # If the tool returned a final dataset we want in `state['query_result']`, handle it here\n",
    "                if (\n",
    "                    isinstance(parsed_output, dict) \n",
    "                    and \"result\" in parsed_output \n",
    "                    and \"rows\" in parsed_output[\"result\"]\n",
    "                ):\n",
    "                    state['query_result'] = {\"data\": parsed_output[\"result\"]}\n",
    "\n",
    "            except Exception as e:\n",
    "                state['error'] = f\"Error processing tool output: {str(e)}\"\n",
    "\n",
    "        # 4) Check the agent’s final answer text. \n",
    "        #    Usually it's just a summary, not JSON. So no JSON parse needed here!\n",
    "        final_answer = result.get('output', '')\n",
    "        state[\"messages\"].append(final_answer)  # or store it as `state[\"final_answer\"]` if you prefer\n",
    "\n",
    "        if debug:\n",
    "            print(\"\\n🔍 DEBUG: Final agent answer (unparsed text) ->\", final_answer)\n",
    "\n",
    "        # 5) Return everything\n",
    "        return {\n",
    "            \"success\": True,\n",
    "            \"output\": final_answer,\n",
    "            \"steps\": intermediate_steps,\n",
    "            \"state\": state\n",
    "        }\n",
    "\n",
    "    except Exception as e:\n",
    "        state['error'] = str(e)\n",
    "        if debug:\n",
    "            print(f\"\\n❌ Agent Execution Failed: {str(e)}\")\n",
    "            print_state(state, \"Error State\")\n",
    "        \n",
    "        return {\n",
    "            \"success\": False,\n",
    "            \"error\": str(e),\n",
    "            \"state\": state\n",
    "        }\n"
   ]
  },
  {
   "cell_type": "code",
   "execution_count": 14,
   "id": "fc58712c-5440-41c8-90cf-c8f49f49a416",
   "metadata": {},
   "outputs": [
    {
     "name": "stdout",
     "output_type": "stream",
     "text": [
      "==================== RAW INITIAL STATE:\n",
      "{'file_name': 'ipo_data.xlsx', 'user_query': 'Draw performance by industry. You need to group the tickers by industry and calculate the average performance for each ticker in the group and then from there calculate the avg performance for the industry. where the average performance must be calculated only from the columns month 1 through month 13. For example if a ticker symbol has only 7 montsh with values, regardless if these values are negative or positive, then sum the values in these 7 months and divide the result by 7.', 'messages': [], 'preview_data': None, 'last_query': None, 'query_result': None, 'error': None}\n",
      "====================\n",
      "\n",
      "🎬 Starting Agent Execution\n",
      "Query: Draw performance by industry. You need to group the tickers by industry and calculate the average performance for each ticker in the group and then from there calculate the avg performance for the industry. where the average performance must be calculated only from the columns month 1 through month 13. For example if a ticker symbol has only 7 montsh with values, regardless if these values are negative or positive, then sum the values in these 7 months and divide the result by 7. Using the file: ipo_data.xlsx\n",
      "\n",
      "==================== Initial State ====================\n",
      "File: ipo_data.xlsx\n",
      "User Query: Draw performance by industry. You need to group the tickers by industry and calculate the average performance for each ticker in the group and then from there calculate the avg performance for the industry. where the average performance must be calculated only from the columns month 1 through month 13. For example if a ticker symbol has only 7 montsh with values, regardless if these values are negative or positive, then sum the values in these 7 months and divide the result by 7.\n",
      "\n",
      "==================================================\n",
      "\n",
      "\n",
      "\n",
      "\u001b[1m> Entering new AgentExecutor chain...\u001b[0m\n",
      "\u001b[32;1m\u001b[1;3mTo address the question, I will follow the workflow to analyze the Excel file and create the required visualization. Here's the step-by-step process:\n",
      "\n",
      "1. **Preview the Excel structure** to understand the data and identify the relevant columns.\n",
      "2. **Use a complex DuckDB query** to calculate the average performance for each ticker and then the average performance for each industry.\n",
      "3. **Create a visualization** to display the performance by industry.\n",
      "\n",
      "Let's begin with the first step.\n",
      "\n",
      "Thought: I need to preview the Excel file to understand its structure and identify the relevant columns for analysis.\n",
      "Action: preview_excel_structure\n",
      "Action Input: {\"file_name\": \"ipo_data.xlsx\"}\u001b[0m✅ Preview successful\n"
     ]
    },
    {
     "data": {
      "text/html": [
       "<div>\n",
       "<style scoped>\n",
       "    .dataframe tbody tr th:only-of-type {\n",
       "        vertical-align: middle;\n",
       "    }\n",
       "\n",
       "    .dataframe tbody tr th {\n",
       "        vertical-align: top;\n",
       "    }\n",
       "\n",
       "    .dataframe thead th {\n",
       "        text-align: right;\n",
       "    }\n",
       "</style>\n",
       "<table border=\"1\" class=\"dataframe\">\n",
       "  <thead>\n",
       "    <tr style=\"text-align: right;\">\n",
       "      <th></th>\n",
       "      <th>dealID</th>\n",
       "      <th>proposedTickerSymbol</th>\n",
       "      <th>companyName</th>\n",
       "      <th>proposedExchange</th>\n",
       "      <th>proposedSharePrice</th>\n",
       "      <th>sharesOffered</th>\n",
       "      <th>pricedDate</th>\n",
       "      <th>dollarValueOfSharesOffered</th>\n",
       "      <th>dealStatus</th>\n",
       "      <th>Industry</th>\n",
       "      <th>...</th>\n",
       "      <th>Month 4</th>\n",
       "      <th>Month 5</th>\n",
       "      <th>Month 6</th>\n",
       "      <th>Month 7</th>\n",
       "      <th>Month 8</th>\n",
       "      <th>Month 9</th>\n",
       "      <th>Month 10</th>\n",
       "      <th>Month 11</th>\n",
       "      <th>Month 12</th>\n",
       "      <th>Month 13</th>\n",
       "    </tr>\n",
       "  </thead>\n",
       "  <tbody>\n",
       "    <tr>\n",
       "      <th>0</th>\n",
       "      <td>1246500-108172</td>\n",
       "      <td>FBLG</td>\n",
       "      <td>FibroBiologics, Inc.</td>\n",
       "      <td>NASDAQ Global</td>\n",
       "      <td>30.0</td>\n",
       "      <td>4,806,226</td>\n",
       "      <td>1/31/2024</td>\n",
       "      <td>$144,186,780</td>\n",
       "      <td>Priced</td>\n",
       "      <td>Biotechnology</td>\n",
       "      <td>...</td>\n",
       "      <td>-64.83333269755046</td>\n",
       "      <td>-60.03333409627278</td>\n",
       "      <td>-85.03333409627278</td>\n",
       "      <td>-84.10000006357828</td>\n",
       "      <td>-95.30000011126201</td>\n",
       "      <td>-89.00000015894572</td>\n",
       "      <td>-88.69999965031941</td>\n",
       "      <td>-91.40000025431316</td>\n",
       "      <td>-92.7999997138977</td>\n",
       "      <td>nan</td>\n",
       "    </tr>\n",
       "    <tr>\n",
       "      <th>1</th>\n",
       "      <td>943692-107037</td>\n",
       "      <td>AMIX</td>\n",
       "      <td>Autonomix Medical, Inc.</td>\n",
       "      <td>NASDAQ Capital</td>\n",
       "      <td>5.0</td>\n",
       "      <td>2,234,222</td>\n",
       "      <td>1/29/2024</td>\n",
       "      <td>$11,171,110</td>\n",
       "      <td>Priced</td>\n",
       "      <td>Medical Devices</td>\n",
       "      <td>...</td>\n",
       "      <td>1146.800003051758</td>\n",
       "      <td>915.9999847412109</td>\n",
       "      <td>320.0</td>\n",
       "      <td>515.9999847412109</td>\n",
       "      <td>152.0000076293945</td>\n",
       "      <td>187.6000022888184</td>\n",
       "      <td>134.4000053405762</td>\n",
       "      <td>112.0000076293945</td>\n",
       "      <td>-33.00000190734863</td>\n",
       "      <td>-45.0</td>\n",
       "    </tr>\n",
       "    <tr>\n",
       "      <th>2</th>\n",
       "      <td>1269043-107548</td>\n",
       "      <td>HAO</td>\n",
       "      <td>Haoxi Health Technology Ltd</td>\n",
       "      <td>NASDAQ Capital</td>\n",
       "      <td>4.0</td>\n",
       "      <td>2,400,000</td>\n",
       "      <td>1/26/2024</td>\n",
       "      <td>$9,600,000</td>\n",
       "      <td>Priced</td>\n",
       "      <td>Advertising Agencies</td>\n",
       "      <td>...</td>\n",
       "      <td>20.50000429153442</td>\n",
       "      <td>59.74999666213989</td>\n",
       "      <td>55.49999475479126</td>\n",
       "      <td>-0.9999990463256836</td>\n",
       "      <td>-18.00000071525574</td>\n",
       "      <td>-11.00000143051147</td>\n",
       "      <td>-95.69999985396862</td>\n",
       "      <td>-94.92500014603138</td>\n",
       "      <td>-96.44999988377094</td>\n",
       "      <td>-96.20000012218952</td>\n",
       "    </tr>\n",
       "  </tbody>\n",
       "</table>\n",
       "<p>3 rows × 25 columns</p>\n",
       "</div>"
      ],
      "text/plain": [
       "           dealID proposedTickerSymbol                  companyName  \\\n",
       "0  1246500-108172                 FBLG         FibroBiologics, Inc.   \n",
       "1   943692-107037                 AMIX      Autonomix Medical, Inc.   \n",
       "2  1269043-107548                  HAO  Haoxi Health Technology Ltd   \n",
       "\n",
       "  proposedExchange proposedSharePrice sharesOffered pricedDate  \\\n",
       "0    NASDAQ Global               30.0     4,806,226  1/31/2024   \n",
       "1   NASDAQ Capital                5.0     2,234,222  1/29/2024   \n",
       "2   NASDAQ Capital                4.0     2,400,000  1/26/2024   \n",
       "\n",
       "  dollarValueOfSharesOffered dealStatus              Industry  ...  \\\n",
       "0               $144,186,780     Priced         Biotechnology  ...   \n",
       "1                $11,171,110     Priced       Medical Devices  ...   \n",
       "2                 $9,600,000     Priced  Advertising Agencies  ...   \n",
       "\n",
       "              Month 4             Month 5             Month 6  \\\n",
       "0  -64.83333269755046  -60.03333409627278  -85.03333409627278   \n",
       "1   1146.800003051758   915.9999847412109               320.0   \n",
       "2   20.50000429153442   59.74999666213989   55.49999475479126   \n",
       "\n",
       "               Month 7             Month 8             Month 9  \\\n",
       "0   -84.10000006357828  -95.30000011126201  -89.00000015894572   \n",
       "1    515.9999847412109   152.0000076293945   187.6000022888184   \n",
       "2  -0.9999990463256836  -18.00000071525574  -11.00000143051147   \n",
       "\n",
       "             Month 10            Month 11            Month 12  \\\n",
       "0  -88.69999965031941  -91.40000025431316   -92.7999997138977   \n",
       "1   134.4000053405762   112.0000076293945  -33.00000190734863   \n",
       "2  -95.69999985396862  -94.92500014603138  -96.44999988377094   \n",
       "\n",
       "             Month 13  \n",
       "0                 nan  \n",
       "1               -45.0  \n",
       "2  -96.20000012218952  \n",
       "\n",
       "[3 rows x 25 columns]"
      ]
     },
     "metadata": {},
     "output_type": "display_data"
    },
    {
     "name": "stdout",
     "output_type": "stream",
     "text": [
      "\u001b[36;1m\u001b[1;3m{\"result\": {\"columns\": [\"dealID\", \"proposedTickerSymbol\", \"companyName\", \"proposedExchange\", \"proposedSharePrice\", \"sharesOffered\", \"pricedDate\", \"dollarValueOfSharesOffered\", \"dealStatus\", \"Industry\", \"CurrentPrice\", \"Performance\", \"Month 1\", \"Month 2\", \"Month 3\", \"Month 4\", \"Month 5\", \"Month 6\", \"Month 7\", \"Month 8\", \"Month 9\", \"Month 10\", \"Month 11\", \"Month 12\", \"Month 13\"], \"dtypes\": {\"dealID\": \"object\", \"proposedTickerSymbol\": \"object\", \"companyName\": \"object\", \"proposedExchange\": \"object\", \"proposedSharePrice\": \"float64\", \"sharesOffered\": \"object\", \"pricedDate\": \"object\", \"dollarValueOfSharesOffered\": \"object\", \"dealStatus\": \"object\", \"Industry\": \"object\", \"CurrentPrice\": \"float64\", \"Performance\": \"float64\", \"Month 1\": \"float64\", \"Month 2\": \"float64\", \"Month 3\": \"float64\", \"Month 4\": \"float64\", \"Month 5\": \"float64\", \"Month 6\": \"float64\", \"Month 7\": \"float64\", \"Month 8\": \"float64\", \"Month 9\": \"float64\", \"Month 10\": \"float64\", \"Month 11\": \"float64\", \"Month 12\": \"float64\", \"Month 13\": \"float64\"}, \"sample_rows\": [{\"dealID\": \"1246500-108172\", \"proposedTickerSymbol\": \"FBLG\", \"companyName\": \"FibroBiologics, Inc.\", \"proposedExchange\": \"NASDAQ Global\", \"proposedSharePrice\": \"30.0\", \"sharesOffered\": \"4,806,226\", \"pricedDate\": \"1/31/2024\", \"dollarValueOfSharesOffered\": \"$144,186,780\", \"dealStatus\": \"Priced\", \"Industry\": \"Biotechnology\", \"CurrentPrice\": \"1.980000019073486\", \"Performance\": \"-93.39999993642171\", \"Month 1\": \"-41.66666666666667\", \"Month 2\": \"-56.66666666666666\", \"Month 3\": \"-61.96666717529297\", \"Month 4\": \"-64.83333269755046\", \"Month 5\": \"-60.03333409627278\", \"Month 6\": \"-85.03333409627278\", \"Month 7\": \"-84.10000006357828\", \"Month 8\": \"-95.30000011126201\", \"Month 9\": \"-89.00000015894572\", \"Month 10\": \"-88.69999965031941\", \"Month 11\": \"-91.40000025431316\", \"Month 12\": \"-92.7999997138977\", \"Month 13\": \"nan\"}, {\"dealID\": \"943692-107037\", \"proposedTickerSymbol\": \"AMIX\", \"companyName\": \"Autonomix Medical, Inc.\", \"proposedExchange\": \"NASDAQ Capital\", \"proposedSharePrice\": \"5.0\", \"sharesOffered\": \"2,234,222\", \"pricedDate\": \"1/29/2024\", \"dollarValueOfSharesOffered\": \"$11,171,110\", \"dealStatus\": \"Priced\", \"Industry\": \"Medical Devices\", \"CurrentPrice\": \"2.805000066757202\", \"Performance\": \"-43.89999866485596\", \"Month 1\": \"1928.000030517578\", \"Month 2\": \"1568.000030517578\", \"Month 3\": \"1060.0\", \"Month 4\": \"1146.800003051758\", \"Month 5\": \"915.9999847412109\", \"Month 6\": \"320.0\", \"Month 7\": \"515.9999847412109\", \"Month 8\": \"152.0000076293945\", \"Month 9\": \"187.6000022888184\", \"Month 10\": \"134.4000053405762\", \"Month 11\": \"112.0000076293945\", \"Month 12\": \"-33.00000190734863\", \"Month 13\": \"-45.0\"}, {\"dealID\": \"1269043-107548\", \"proposedTickerSymbol\": \"HAO\", \"companyName\": \"Haoxi Health Technology Ltd\", \"proposedExchange\": \"NASDAQ Capital\", \"proposedSharePrice\": \"4.0\", \"sharesOffered\": \"2,400,000\", \"pricedDate\": \"1/26/2024\", \"dollarValueOfSharesOffered\": \"$9,600,000\", \"dealStatus\": \"Priced\", \"Industry\": \"Advertising Agencies\", \"CurrentPrice\": \"0.1439999938011169\", \"Performance\": \"-96.40000015497208\", \"Month 1\": \"32.00000524520874\", \"Month 2\": \"89.25000429153442\", \"Month 3\": \"57.50000476837158\", \"Month 4\": \"20.50000429153442\", \"Month 5\": \"59.74999666213989\", \"Month 6\": \"55.49999475479126\", \"Month 7\": \"-0.9999990463256836\", \"Month 8\": \"-18.00000071525574\", \"Month 9\": \"-11.00000143051147\", \"Month 10\": \"-95.69999985396862\", \"Month 11\": \"-94.92500014603138\", \"Month 12\": \"-96.44999988377094\", \"Month 13\": \"-96.20000012218952\"}]}}\u001b[0m\u001b[32;1m\u001b[1;3mThe Excel file contains columns for ticker symbols, industry, and monthly performance data from \"Month 1\" to \"Month 13\". The task is to calculate the average performance for each ticker and then the average performance for each industry, excluding the \"Performance\" column. \n",
      "\n",
      "To achieve this, I will:\n",
      "1. Calculate the average performance for each ticker by summing the non-null monthly values and dividing by the count of non-null months.\n",
      "2. Group the results by industry and calculate the average performance for each industry.\n",
      "\n",
      "I will use a complex DuckDB query to perform these calculations.\n",
      "\n",
      "Action: complex_duckdb_query\n",
      "Action Input: {\"file_name\": \"ipo_data.xlsx\", \"query\": \"WITH ticker_avg AS (SELECT \\\"proposedTickerSymbol\\\", \\\"Industry\\\", (COALESCE(\\\"Month 1\\\", 0) + COALESCE(\\\"Month 2\\\", 0) + COALESCE(\\\"Month 3\\\", 0) + COALESCE(\\\"Month 4\\\", 0) + COALESCE(\\\"Month 5\\\", 0) + COALESCE(\\\"Month 6\\\", 0) + COALESCE(\\\"Month 7\\\", 0) + COALESCE(\\\"Month 8\\\", 0) + COALESCE(\\\"Month 9\\\", 0) + COALESCE(\\\"Month 10\\\", 0) + COALESCE(\\\"Month 11\\\", 0) + COALESCE(\\\"Month 12\\\", 0) + COALESCE(\\\"Month 13\\\", 0)) / NULLIF(CAST(\\\"Month 1\\\" IS NOT NULL AS INTEGER) + CAST(\\\"Month 2\\\" IS NOT NULL AS INTEGER) + CAST(\\\"Month 3\\\" IS NOT NULL AS INTEGER) + CAST(\\\"Month 4\\\" IS NOT NULL AS INTEGER) + CAST(\\\"Month 5\\\" IS NOT NULL AS INTEGER) + CAST(\\\"Month 6\\\" IS NOT NULL AS INTEGER) + CAST(\\\"Month 7\\\" IS NOT NULL AS INTEGER) + CAST(\\\"Month 8\\\" IS NOT NULL AS INTEGER) + CAST(\\\"Month 9\\\" IS NOT NULL AS INTEGER) + CAST(\\\"Month 10\\\" IS NOT NULL AS INTEGER) + CAST(\\\"Month 11\\\" IS NOT NULL AS INTEGER) + CAST(\\\"Month 12\\\" IS NOT NULL AS INTEGER) + CAST(\\\"Month 13\\\" IS NOT NULL AS INTEGER), 0) AS avg_performance FROM data), industry_avg AS (SELECT \\\"Industry\\\", AVG(avg_performance) AS industry_performance FROM ticker_avg GROUP BY \\\"Industry\\\") SELECT * FROM industry_avg\"}\n",
      "\u001b[0m\n",
      "🔍 Executing DuckDB query:\n",
      "WITH ticker_avg AS (SELECT \"proposedTickerSymbol\", \"Industry\", (COALESCE(\"Month 1\", 0) + COALESCE(\"Month 2\", 0) + COALESCE(\"Month 3\", 0) + COALESCE(\"Month 4\", 0) + COALESCE(\"Month 5\", 0) + COALESCE(\"Month 6\", 0) + COALESCE(\"Month 7\", 0) + COALESCE(\"Month 8\", 0) + COALESCE(\"Month 9\", 0) + COALESCE(\"Month 10\", 0) + COALESCE(\"Month 11\", 0) + COALESCE(\"Month 12\", 0) + COALESCE(\"Month 13\", 0)) / NULLIF(CAST(\"Month 1\" IS NOT NULL AS INTEGER) + CAST(\"Month 2\" IS NOT NULL AS INTEGER) + CAST(\"Month 3\" IS NOT NULL AS INTEGER) + CAST(\"Month 4\" IS NOT NULL AS INTEGER) + CAST(\"Month 5\" IS NOT NULL AS INTEGER) + CAST(\"Month 6\" IS NOT NULL AS INTEGER) + CAST(\"Month 7\" IS NOT NULL AS INTEGER) + CAST(\"Month 8\" IS NOT NULL AS INTEGER) + CAST(\"Month 9\" IS NOT NULL AS INTEGER) + CAST(\"Month 10\" IS NOT NULL AS INTEGER) + CAST(\"Month 11\" IS NOT NULL AS INTEGER) + CAST(\"Month 12\" IS NOT NULL AS INTEGER) + CAST(\"Month 13\" IS NOT NULL AS INTEGER), 0) AS avg_performance FROM data), industry_avg AS (SELECT \"Industry\", AVG(avg_performance) AS industry_performance FROM ticker_avg GROUP BY \"Industry\") SELECT * FROM industry_avg\n",
      "✅ Query successful\n"
     ]
    },
    {
     "data": {
      "text/html": [
       "<div>\n",
       "<style scoped>\n",
       "    .dataframe tbody tr th:only-of-type {\n",
       "        vertical-align: middle;\n",
       "    }\n",
       "\n",
       "    .dataframe tbody tr th {\n",
       "        vertical-align: top;\n",
       "    }\n",
       "\n",
       "    .dataframe thead th {\n",
       "        text-align: right;\n",
       "    }\n",
       "</style>\n",
       "<table border=\"1\" class=\"dataframe\">\n",
       "  <thead>\n",
       "    <tr style=\"text-align: right;\">\n",
       "      <th></th>\n",
       "      <th>Industry</th>\n",
       "      <th>industry_performance</th>\n",
       "    </tr>\n",
       "  </thead>\n",
       "  <tbody>\n",
       "    <tr>\n",
       "      <th>0</th>\n",
       "      <td>Security &amp; Protection Services</td>\n",
       "      <td>-43.538462</td>\n",
       "    </tr>\n",
       "    <tr>\n",
       "      <th>1</th>\n",
       "      <td>Software - Infrastructure</td>\n",
       "      <td>35.180027</td>\n",
       "    </tr>\n",
       "    <tr>\n",
       "      <th>2</th>\n",
       "      <td>Internet Content &amp; Information</td>\n",
       "      <td>42.617525</td>\n",
       "    </tr>\n",
       "    <tr>\n",
       "      <th>3</th>\n",
       "      <td>Pollution &amp; Treatment Controls</td>\n",
       "      <td>-22.493791</td>\n",
       "    </tr>\n",
       "    <tr>\n",
       "      <th>4</th>\n",
       "      <td>Metal Fabrication</td>\n",
       "      <td>19.375001</td>\n",
       "    </tr>\n",
       "    <tr>\n",
       "      <th>...</th>\n",
       "      <td>...</td>\n",
       "      <td>...</td>\n",
       "    </tr>\n",
       "    <tr>\n",
       "      <th>60</th>\n",
       "      <td>Communication Equipment</td>\n",
       "      <td>-21.648077</td>\n",
       "    </tr>\n",
       "    <tr>\n",
       "      <th>61</th>\n",
       "      <td>Medical Care Facilities</td>\n",
       "      <td>-5.362668</td>\n",
       "    </tr>\n",
       "    <tr>\n",
       "      <th>62</th>\n",
       "      <td>Entertainment</td>\n",
       "      <td>-45.574267</td>\n",
       "    </tr>\n",
       "    <tr>\n",
       "      <th>63</th>\n",
       "      <td>Packaged Foods</td>\n",
       "      <td>-7.877445</td>\n",
       "    </tr>\n",
       "    <tr>\n",
       "      <th>64</th>\n",
       "      <td>Gambling</td>\n",
       "      <td>-14.458334</td>\n",
       "    </tr>\n",
       "  </tbody>\n",
       "</table>\n",
       "<p>65 rows × 2 columns</p>\n",
       "</div>"
      ],
      "text/plain": [
       "                          Industry  industry_performance\n",
       "0   Security & Protection Services            -43.538462\n",
       "1        Software - Infrastructure             35.180027\n",
       "2   Internet Content & Information             42.617525\n",
       "3   Pollution & Treatment Controls            -22.493791\n",
       "4                Metal Fabrication             19.375001\n",
       "..                             ...                   ...\n",
       "60         Communication Equipment            -21.648077\n",
       "61         Medical Care Facilities             -5.362668\n",
       "62                   Entertainment            -45.574267\n",
       "63                  Packaged Foods             -7.877445\n",
       "64                        Gambling            -14.458334\n",
       "\n",
       "[65 rows x 2 columns]"
      ]
     },
     "metadata": {},
     "output_type": "display_data"
    },
    {
     "name": "stdout",
     "output_type": "stream",
     "text": [
      "\u001b[33;1m\u001b[1;3m{\"result\": {\"columns\": [\"Industry\", \"industry_performance\"], \"rows\": [{\"Industry\": \"Security & Protection Services\", \"industry_performance\": -43.53846174020033}, {\"Industry\": \"Software - Infrastructure\", \"industry_performance\": 35.180027438130395}, {\"Industry\": \"Internet Content & Information\", \"industry_performance\": 42.61752522913839}, {\"Industry\": \"Pollution & Treatment Controls\", \"industry_performance\": -22.49379134645649}, {\"Industry\": \"Metal Fabrication\", \"industry_performance\": 19.375001192092896}, {\"Industry\": \"Insurance - Property & Casualty\", \"industry_performance\": 71.78676408879898}, {\"Industry\": \"Information Technology Services\", \"industry_performance\": -24.90414774132127}, {\"Industry\": \"Business Equipment & Supplies\", \"industry_performance\": -34.10714311259134}, {\"Industry\": \"Residential Construction\", \"industry_performance\": 19.91666555404663}, {\"Industry\": \"Biotechnology\", \"industry_performance\": -9.690435205869646}, {\"Industry\": \"Advertising Agencies\", \"industry_performance\": 23.41254746793827}, {\"Industry\": \"Electrical Equipment & Parts\", \"industry_performance\": -34.973076902903045}, {\"Industry\": \"Auto Manufacturers\", \"industry_performance\": -18.33307958653838}, {\"Industry\": \"Other Industrial Metals & Mining\", \"industry_performance\": -11.490318283639663}, {\"Industry\": \"Education & Training Services\", \"industry_performance\": 25.38020759820938}, {\"Industry\": \"Computer Hardware\", \"industry_performance\": -31.33653814976032}, {\"Industry\": \"Apparel Manufacturing\", \"industry_performance\": -57.59041164165888}, {\"Industry\": \"Solar\", \"industry_performance\": 10.527085761229197}, {\"Industry\": \"Real Estate Services\", \"industry_performance\": -55.258333683013916}, {\"Industry\": \"Shell Companies\", \"industry_performance\": 6.188053968879913}, {\"Industry\": \"Discount Stores\", \"industry_performance\": 52.66190483456567}, {\"Industry\": \"REIT - Healthcare Facilities\", \"industry_performance\": 55.942051278220276}, {\"Industry\": \"Waste Management\", \"industry_performance\": -7.9749995470047}, {\"Industry\": \"Engineering & Construction\", \"industry_performance\": 24.533712599313624}, {\"Industry\": \"Recreational Vehicles\", \"industry_performance\": -23.146666950649685}, {\"Industry\": \"Restaurants\", \"industry_performance\": -1.438503087691025}, {\"Industry\": \"Integrated Freight & Logistics\", \"industry_performance\": -22.974112062972573}, {\"Industry\": \"Specialty Retail\", \"industry_performance\": 1.980104853709534}, {\"Industry\": \"Marine Shipping\", \"industry_performance\": -39.523067644664216}, {\"Industry\": \"Industry not available\", \"industry_performance\": 15.104255979515077}, {\"Industry\": \"Medical Distribution\", \"industry_performance\": -26.14814793622052}, {\"Industry\": \"Oil & Gas Integrated\", \"industry_performance\": -66.74999917546907}, {\"Industry\": \"Real Estate - Development\", \"industry_performance\": 40.97435849926847}, {\"Industry\": \"Specialty Business Services\", \"industry_performance\": 4.1153075374606845}, {\"Industry\": \"Medical Instruments & Supplies\", \"industry_performance\": -6.66666825612386}, {\"Industry\": \"Semiconductors\", \"industry_performance\": 108.95707005202168}, {\"Industry\": \"Travel Services\", \"industry_performance\": 50.2638887476038}, {\"Industry\": \"Oil & Gas E&P\", \"industry_performance\": -3.1180544505043617}, {\"Industry\": \"Drug Manufacturers - Specialty & Generic\", \"industry_performance\": -23.44444344441096}, {\"Industry\": \"Auto Parts\", \"industry_performance\": -51.04166567325592}, {\"Industry\": \"Medical Devices\", \"industry_performance\": 177.01018232430806}, {\"Industry\": \"Leisure\", \"industry_performance\": -8.549333862769297}, {\"Industry\": \"Capital Markets\", \"industry_performance\": 22.92707008227967}, {\"Industry\": \"Aerospace & Defense\", \"industry_performance\": 23.167998735254663}, {\"Industry\": \"Personal Services\", \"industry_performance\": -64.21999961137772}, {\"Industry\": \"Food Distribution\", \"industry_performance\": -76.33499965071678}, {\"Industry\": \"Beverages - Wineries & Distilleries\", \"industry_performance\": -41.846874356269836}, {\"Industry\": \"Staffing & Employment Services\", \"industry_performance\": 51.75000190734863}, {\"Industry\": \"Banks - Regional\", \"industry_performance\": 14.419695897535844}, {\"Industry\": \"Health Information Services\", \"industry_performance\": -2.5786547464387786}, {\"Industry\": \"Consulting Services\", \"industry_performance\": -69.41590932282534}, {\"Industry\": \"Software - Application\", \"industry_performance\": -13.580411941343833}, {\"Industry\": \"Specialty Industrial Machinery\", \"industry_performance\": 131.36001095423367}, {\"Industry\": \"Utilities - Regulated Gas\", \"industry_performance\": 0.49047651745024073}, {\"Industry\": \"Insurance Brokers\", \"industry_performance\": 26.77426446135305}, {\"Industry\": \"Household & Personal Products\", \"industry_performance\": -19.541664752695297}, {\"Industry\": \"Oil & Gas Equipment & Services\", \"industry_performance\": 82.48968389855713}, {\"Industry\": \"REIT - Industrial\", \"industry_performance\": -5.285024235391209}, {\"Industry\": \"Auto & Truck Dealerships\", \"industry_performance\": -63.805000483989716}, {\"Industry\": \"REIT - Diversified\", \"industry_performance\": -2.2247992063823503}, {\"Industry\": \"Communication Equipment\", \"industry_performance\": -21.648076864389274}, {\"Industry\": \"Medical Care Facilities\", \"industry_performance\": -5.362668130465029}, {\"Industry\": \"Entertainment\", \"industry_performance\": -45.574266809415036}, {\"Industry\": \"Packaged Foods\", \"industry_performance\": -7.877444677882726}, {\"Industry\": \"Gambling\", \"industry_performance\": -14.45833444595337}]}}\u001b[0m\u001b[32;1m\u001b[1;3mThe query successfully calculated the average performance for each industry by first determining the average performance for each ticker based on the monthly data. Now, I will create a visualization to display the performance by industry.\n",
      "\n",
      "Action: create_visualization\n",
      "Action Input: {\n",
      "  \"data\": {\n",
      "    \"result\": {\n",
      "      \"rows\": [\n",
      "        {\"Industry\": \"Security & Protection Services\", \"industry_performance\": -43.54},\n",
      "        {\"Industry\": \"Software - Infrastructure\", \"industry_performance\": 35.18},\n",
      "        {\"Industry\": \"Internet Content & Information\", \"industry_performance\": 42.62},\n",
      "        {\"Industry\": \"Pollution & Treatment Controls\", \"industry_performance\": -22.49},\n",
      "        {\"Industry\": \"Metal Fabrication\", \"industry_performance\": 19.38},\n",
      "        {\"Industry\": \"Insurance - Property & Casualty\", \"industry_performance\": 71.79},\n",
      "        {\"Industry\": \"Information Technology Services\", \"industry_performance\": -24.90},\n",
      "        {\"Industry\": \"Business Equipment & Supplies\", \"industry_performance\": -34.11},\n",
      "        {\"Industry\": \"Residential Construction\", \"industry_performance\": 19.92},\n",
      "        {\"Industry\": \"Biotechnology\", \"industry_performance\": -9.69},\n",
      "        {\"Industry\": \"Advertising Agencies\", \"industry_performance\": 23.41},\n",
      "        {\"Industry\": \"Electrical Equipment & Parts\", \"industry_performance\": -34.97},\n",
      "        {\"Industry\": \"Auto Manufacturers\", \"industry_performance\": -18.33},\n",
      "        {\"Industry\": \"Other Industrial Metals & Mining\", \"industry_performance\": -11.49},\n",
      "        {\"Industry\": \"Education & Training Services\", \"industry_performance\": 25.38},\n",
      "        {\"Industry\": \"Computer Hardware\", \"industry_performance\": -31.34},\n",
      "        {\"Industry\": \"Apparel Manufacturing\", \"industry_performance\": -57.59},\n",
      "        {\"Industry\": \"Solar\", \"industry_performance\": 10.53},\n",
      "        {\"Industry\": \"Real Estate Services\", \"industry_performance\": -55.26},\n",
      "        {\"Industry\": \"Shell Companies\", \"industry_performance\": 6.19},\n",
      "        {\"Industry\": \"Discount Stores\", \"industry_performance\": 52.66},\n",
      "        {\"Industry\": \"REIT - Healthcare Facilities\", \"industry_performance\": 55.94},\n",
      "        {\"Industry\": \"Waste Management\", \"industry_performance\": -7.97},\n",
      "        {\"Industry\": \"Engineering & Construction\", \"industry_performance\": 24.53},\n",
      "        {\"Industry\": \"Recreational Vehicles\", \"industry_performance\": -23.15},\n",
      "        {\"Industry\": \"Restaurants\", \"industry_performance\": -1.44},\n",
      "        {\"Industry\": \"Integrated Freight & Logistics\", \"industry_performance\": -22.97},\n",
      "        {\"Industry\": \"Specialty Retail\", \"industry_performance\": 1.98},\n",
      "        {\"Industry\": \"Marine Shipping\", \"industry_performance\": -39.52},\n",
      "        {\"Industry\": \"Industry not available\", \"industry_performance\": 15.10},\n",
      "        {\"Industry\": \"Medical Distribution\", \"industry_performance\": -26.15},\n",
      "        {\"Industry\": \"Oil & Gas Integrated\", \"industry_performance\": -66.75},\n",
      "        {\"Industry\": \"Real Estate - Development\", \"industry_performance\": 40.97},\n",
      "        {\"Industry\": \"Specialty Business Services\", \"industry_performance\": 4.12},\n",
      "        {\"Industry\": \"Medical Instruments & Supplies\", \"industry_performance\": -6.67},\n",
      "        {\"Industry\": \"Semiconductors\", \"industry_performance\": 108.96},\n",
      "        {\"Industry\": \"Travel Services\", \"industry_performance\": 50.26},\n",
      "        {\"Industry\": \"Oil & Gas E&P\", \"industry_performance\": -3.12},\n",
      "        {\"Industry\": \"Drug Manufacturers - Specialty & Generic\", \"industry_performance\": -23.44},\n",
      "        {\"Industry\": \"Auto Parts\", \"industry_performance\": -51.04},\n",
      "        {\"Industry\": \"Medical Devices\", \"industry_performance\": 177.01},\n",
      "        {\"Industry\": \"Leisure\", \"industry_performance\": -8.55},\n",
      "        {\"Industry\": \"Capital Markets\", \"industry_performance\": 22.93},\n",
      "        {\"Industry\": \"Aerospace & Defense\", \"industry_performance\": 23.17},\n",
      "        {\"Industry\": \"Personal Services\", \"industry_performance\": -64.22},\n",
      "        {\"Industry\": \"Food Distribution\", \"industry_performance\": -76.33},\n",
      "        {\"Industry\": \"Beverages - Wineries & Distilleries\", \"industry_performance\": -41.85},\n",
      "        {\"Industry\": \"Staffing & Employment Services\", \"industry_performance\": 51.75},\n",
      "        {\"Industry\": \"Banks - Regional\", \"industry_performance\": 14.42},\n",
      "        {\"Industry\": \"Health Information Services\", \"industry_performance\": -2.58},\n",
      "        {\"Industry\": \"Consulting Services\", \"industry_performance\": -69.42},\n",
      "        {\"Industry\": \"Software - Application\", \"industry_performance\": -13.58},\n",
      "        {\"Industry\": \"Specialty Industrial Machinery\", \"industry_performance\": 131.36},\n",
      "        {\"Industry\": \"Utilities - Regulated Gas\", \"industry_performance\": 0.49},\n",
      "        {\"Industry\": \"Insurance Brokers\", \"industry_performance\": 26.77},\n",
      "        {\"Industry\": \"Household & Personal Products\", \"industry_performance\": -19.54},\n",
      "        {\"Industry\": \"Oil & Gas Equipment & Services\", \"industry_performance\": 82.49},\n",
      "        {\"Industry\": \"REIT - Industrial\", \"industry_performance\": -5.29},\n",
      "        {\"Industry\": \"Auto & Truck Dealerships\", \"industry_performance\": -63.81},\n",
      "        {\"Industry\": \"REIT - Diversified\", \"industry_performance\": -2.22},\n",
      "        {\"Industry\": \"Communication Equipment\", \"industry_performance\": -21.65},\n",
      "        {\"Industry\": \"Medical Care Facilities\", \"industry_performance\": -5.36},\n",
      "        {\"Industry\": \"Entertainment\", \"industry_performance\": -45.57},\n",
      "        {\"Industry\": \"Packaged Foods\", \"industry_performance\": -7.88},\n",
      "        {\"Industry\": \"Gambling\", \"industry_performance\": -14.46}\n",
      "      ],\n",
      "      \"columns\": [\"Industry\", \"industry_performance\"]\n",
      "    }\n",
      "  },\n",
      "  \"plot_type\": \"bar\",\n",
      "  \"x\": \"Industry\",\n",
      "  \"y\": \"industry_performance\",\n",
      "  \"color\": \"industry_performance\",\n",
      "  \"title\": \"Average Performance by Industry\"\n",
      "}\u001b[0m"
     ]
    },
    {
     "data": {
      "application/vnd.plotly.v1+json": {
       "config": {
        "plotlyServerURL": "https://plot.ly"
       },
       "data": [
        {
         "alignmentgroup": "True",
         "hovertemplate": "Industry=%{x}<br>industry_performance=%{marker.color}<extra></extra>",
         "legendgroup": "",
         "marker": {
          "color": [
           -43.54,
           35.18,
           42.62,
           -22.49,
           19.38,
           71.79,
           -24.9,
           -34.11,
           19.92,
           -9.69,
           23.41,
           -34.97,
           -18.33,
           -11.49,
           25.38,
           -31.34,
           -57.59,
           10.53,
           -55.26,
           6.19,
           52.66,
           55.94,
           -7.97,
           24.53,
           -23.15,
           -1.44,
           -22.97,
           1.98,
           -39.52,
           15.1,
           -26.15,
           -66.75,
           40.97,
           4.12,
           -6.67,
           108.96,
           50.26,
           -3.12,
           -23.44,
           -51.04,
           177.01,
           -8.55,
           22.93,
           23.17,
           -64.22,
           -76.33,
           -41.85,
           51.75,
           14.42,
           -2.58,
           -69.42,
           -13.58,
           131.36,
           0.49,
           26.77,
           -19.54,
           82.49,
           -5.29,
           -63.81,
           -2.22,
           -21.65,
           -5.36,
           -45.57,
           -7.88,
           -14.46
          ],
          "coloraxis": "coloraxis",
          "pattern": {
           "shape": ""
          }
         },
         "name": "",
         "offsetgroup": "",
         "orientation": "v",
         "showlegend": false,
         "textposition": "auto",
         "type": "bar",
         "x": [
          "Security & Protection Services",
          "Software - Infrastructure",
          "Internet Content & Information",
          "Pollution & Treatment Controls",
          "Metal Fabrication",
          "Insurance - Property & Casualty",
          "Information Technology Services",
          "Business Equipment & Supplies",
          "Residential Construction",
          "Biotechnology",
          "Advertising Agencies",
          "Electrical Equipment & Parts",
          "Auto Manufacturers",
          "Other Industrial Metals & Mining",
          "Education & Training Services",
          "Computer Hardware",
          "Apparel Manufacturing",
          "Solar",
          "Real Estate Services",
          "Shell Companies",
          "Discount Stores",
          "REIT - Healthcare Facilities",
          "Waste Management",
          "Engineering & Construction",
          "Recreational Vehicles",
          "Restaurants",
          "Integrated Freight & Logistics",
          "Specialty Retail",
          "Marine Shipping",
          "Industry not available",
          "Medical Distribution",
          "Oil & Gas Integrated",
          "Real Estate - Development",
          "Specialty Business Services",
          "Medical Instruments & Supplies",
          "Semiconductors",
          "Travel Services",
          "Oil & Gas E&P",
          "Drug Manufacturers - Specialty & Generic",
          "Auto Parts",
          "Medical Devices",
          "Leisure",
          "Capital Markets",
          "Aerospace & Defense",
          "Personal Services",
          "Food Distribution",
          "Beverages - Wineries & Distilleries",
          "Staffing & Employment Services",
          "Banks - Regional",
          "Health Information Services",
          "Consulting Services",
          "Software - Application",
          "Specialty Industrial Machinery",
          "Utilities - Regulated Gas",
          "Insurance Brokers",
          "Household & Personal Products",
          "Oil & Gas Equipment & Services",
          "REIT - Industrial",
          "Auto & Truck Dealerships",
          "REIT - Diversified",
          "Communication Equipment",
          "Medical Care Facilities",
          "Entertainment",
          "Packaged Foods",
          "Gambling"
         ],
         "xaxis": "x",
         "y": [
          -43.54,
          35.18,
          42.62,
          -22.49,
          19.38,
          71.79,
          -24.9,
          -34.11,
          19.92,
          -9.69,
          23.41,
          -34.97,
          -18.33,
          -11.49,
          25.38,
          -31.34,
          -57.59,
          10.53,
          -55.26,
          6.19,
          52.66,
          55.94,
          -7.97,
          24.53,
          -23.15,
          -1.44,
          -22.97,
          1.98,
          -39.52,
          15.1,
          -26.15,
          -66.75,
          40.97,
          4.12,
          -6.67,
          108.96,
          50.26,
          -3.12,
          -23.44,
          -51.04,
          177.01,
          -8.55,
          22.93,
          23.17,
          -64.22,
          -76.33,
          -41.85,
          51.75,
          14.42,
          -2.58,
          -69.42,
          -13.58,
          131.36,
          0.49,
          26.77,
          -19.54,
          82.49,
          -5.29,
          -63.81,
          -2.22,
          -21.65,
          -5.36,
          -45.57,
          -7.88,
          -14.46
         ],
         "yaxis": "y"
        }
       ],
       "layout": {
        "barmode": "group",
        "coloraxis": {
         "colorbar": {
          "title": {
           "text": "industry_performance"
          }
         },
         "colorscale": [
          [
           0,
           "#0d0887"
          ],
          [
           0.1111111111111111,
           "#46039f"
          ],
          [
           0.2222222222222222,
           "#7201a8"
          ],
          [
           0.3333333333333333,
           "#9c179e"
          ],
          [
           0.4444444444444444,
           "#bd3786"
          ],
          [
           0.5555555555555556,
           "#d8576b"
          ],
          [
           0.6666666666666666,
           "#ed7953"
          ],
          [
           0.7777777777777778,
           "#fb9f3a"
          ],
          [
           0.8888888888888888,
           "#fdca26"
          ],
          [
           1,
           "#f0f921"
          ]
         ]
        },
        "font": {
         "size": 12
        },
        "height": 600,
        "legend": {
         "tracegroupgap": 0
        },
        "margin": {
         "b": 50,
         "l": 50,
         "r": 50,
         "t": 50
        },
        "paper_bgcolor": "white",
        "plot_bgcolor": "white",
        "template": {
         "data": {
          "bar": [
           {
            "error_x": {
             "color": "#2a3f5f"
            },
            "error_y": {
             "color": "#2a3f5f"
            },
            "marker": {
             "line": {
              "color": "white",
              "width": 0.5
             },
             "pattern": {
              "fillmode": "overlay",
              "size": 10,
              "solidity": 0.2
             }
            },
            "type": "bar"
           }
          ],
          "barpolar": [
           {
            "marker": {
             "line": {
              "color": "white",
              "width": 0.5
             },
             "pattern": {
              "fillmode": "overlay",
              "size": 10,
              "solidity": 0.2
             }
            },
            "type": "barpolar"
           }
          ],
          "carpet": [
           {
            "aaxis": {
             "endlinecolor": "#2a3f5f",
             "gridcolor": "#C8D4E3",
             "linecolor": "#C8D4E3",
             "minorgridcolor": "#C8D4E3",
             "startlinecolor": "#2a3f5f"
            },
            "baxis": {
             "endlinecolor": "#2a3f5f",
             "gridcolor": "#C8D4E3",
             "linecolor": "#C8D4E3",
             "minorgridcolor": "#C8D4E3",
             "startlinecolor": "#2a3f5f"
            },
            "type": "carpet"
           }
          ],
          "choropleth": [
           {
            "colorbar": {
             "outlinewidth": 0,
             "ticks": ""
            },
            "type": "choropleth"
           }
          ],
          "contour": [
           {
            "colorbar": {
             "outlinewidth": 0,
             "ticks": ""
            },
            "colorscale": [
             [
              0,
              "#0d0887"
             ],
             [
              0.1111111111111111,
              "#46039f"
             ],
             [
              0.2222222222222222,
              "#7201a8"
             ],
             [
              0.3333333333333333,
              "#9c179e"
             ],
             [
              0.4444444444444444,
              "#bd3786"
             ],
             [
              0.5555555555555556,
              "#d8576b"
             ],
             [
              0.6666666666666666,
              "#ed7953"
             ],
             [
              0.7777777777777778,
              "#fb9f3a"
             ],
             [
              0.8888888888888888,
              "#fdca26"
             ],
             [
              1,
              "#f0f921"
             ]
            ],
            "type": "contour"
           }
          ],
          "contourcarpet": [
           {
            "colorbar": {
             "outlinewidth": 0,
             "ticks": ""
            },
            "type": "contourcarpet"
           }
          ],
          "heatmap": [
           {
            "colorbar": {
             "outlinewidth": 0,
             "ticks": ""
            },
            "colorscale": [
             [
              0,
              "#0d0887"
             ],
             [
              0.1111111111111111,
              "#46039f"
             ],
             [
              0.2222222222222222,
              "#7201a8"
             ],
             [
              0.3333333333333333,
              "#9c179e"
             ],
             [
              0.4444444444444444,
              "#bd3786"
             ],
             [
              0.5555555555555556,
              "#d8576b"
             ],
             [
              0.6666666666666666,
              "#ed7953"
             ],
             [
              0.7777777777777778,
              "#fb9f3a"
             ],
             [
              0.8888888888888888,
              "#fdca26"
             ],
             [
              1,
              "#f0f921"
             ]
            ],
            "type": "heatmap"
           }
          ],
          "heatmapgl": [
           {
            "colorbar": {
             "outlinewidth": 0,
             "ticks": ""
            },
            "colorscale": [
             [
              0,
              "#0d0887"
             ],
             [
              0.1111111111111111,
              "#46039f"
             ],
             [
              0.2222222222222222,
              "#7201a8"
             ],
             [
              0.3333333333333333,
              "#9c179e"
             ],
             [
              0.4444444444444444,
              "#bd3786"
             ],
             [
              0.5555555555555556,
              "#d8576b"
             ],
             [
              0.6666666666666666,
              "#ed7953"
             ],
             [
              0.7777777777777778,
              "#fb9f3a"
             ],
             [
              0.8888888888888888,
              "#fdca26"
             ],
             [
              1,
              "#f0f921"
             ]
            ],
            "type": "heatmapgl"
           }
          ],
          "histogram": [
           {
            "marker": {
             "pattern": {
              "fillmode": "overlay",
              "size": 10,
              "solidity": 0.2
             }
            },
            "type": "histogram"
           }
          ],
          "histogram2d": [
           {
            "colorbar": {
             "outlinewidth": 0,
             "ticks": ""
            },
            "colorscale": [
             [
              0,
              "#0d0887"
             ],
             [
              0.1111111111111111,
              "#46039f"
             ],
             [
              0.2222222222222222,
              "#7201a8"
             ],
             [
              0.3333333333333333,
              "#9c179e"
             ],
             [
              0.4444444444444444,
              "#bd3786"
             ],
             [
              0.5555555555555556,
              "#d8576b"
             ],
             [
              0.6666666666666666,
              "#ed7953"
             ],
             [
              0.7777777777777778,
              "#fb9f3a"
             ],
             [
              0.8888888888888888,
              "#fdca26"
             ],
             [
              1,
              "#f0f921"
             ]
            ],
            "type": "histogram2d"
           }
          ],
          "histogram2dcontour": [
           {
            "colorbar": {
             "outlinewidth": 0,
             "ticks": ""
            },
            "colorscale": [
             [
              0,
              "#0d0887"
             ],
             [
              0.1111111111111111,
              "#46039f"
             ],
             [
              0.2222222222222222,
              "#7201a8"
             ],
             [
              0.3333333333333333,
              "#9c179e"
             ],
             [
              0.4444444444444444,
              "#bd3786"
             ],
             [
              0.5555555555555556,
              "#d8576b"
             ],
             [
              0.6666666666666666,
              "#ed7953"
             ],
             [
              0.7777777777777778,
              "#fb9f3a"
             ],
             [
              0.8888888888888888,
              "#fdca26"
             ],
             [
              1,
              "#f0f921"
             ]
            ],
            "type": "histogram2dcontour"
           }
          ],
          "mesh3d": [
           {
            "colorbar": {
             "outlinewidth": 0,
             "ticks": ""
            },
            "type": "mesh3d"
           }
          ],
          "parcoords": [
           {
            "line": {
             "colorbar": {
              "outlinewidth": 0,
              "ticks": ""
             }
            },
            "type": "parcoords"
           }
          ],
          "pie": [
           {
            "automargin": true,
            "type": "pie"
           }
          ],
          "scatter": [
           {
            "fillpattern": {
             "fillmode": "overlay",
             "size": 10,
             "solidity": 0.2
            },
            "type": "scatter"
           }
          ],
          "scatter3d": [
           {
            "line": {
             "colorbar": {
              "outlinewidth": 0,
              "ticks": ""
             }
            },
            "marker": {
             "colorbar": {
              "outlinewidth": 0,
              "ticks": ""
             }
            },
            "type": "scatter3d"
           }
          ],
          "scattercarpet": [
           {
            "marker": {
             "colorbar": {
              "outlinewidth": 0,
              "ticks": ""
             }
            },
            "type": "scattercarpet"
           }
          ],
          "scattergeo": [
           {
            "marker": {
             "colorbar": {
              "outlinewidth": 0,
              "ticks": ""
             }
            },
            "type": "scattergeo"
           }
          ],
          "scattergl": [
           {
            "marker": {
             "colorbar": {
              "outlinewidth": 0,
              "ticks": ""
             }
            },
            "type": "scattergl"
           }
          ],
          "scattermapbox": [
           {
            "marker": {
             "colorbar": {
              "outlinewidth": 0,
              "ticks": ""
             }
            },
            "type": "scattermapbox"
           }
          ],
          "scatterpolar": [
           {
            "marker": {
             "colorbar": {
              "outlinewidth": 0,
              "ticks": ""
             }
            },
            "type": "scatterpolar"
           }
          ],
          "scatterpolargl": [
           {
            "marker": {
             "colorbar": {
              "outlinewidth": 0,
              "ticks": ""
             }
            },
            "type": "scatterpolargl"
           }
          ],
          "scatterternary": [
           {
            "marker": {
             "colorbar": {
              "outlinewidth": 0,
              "ticks": ""
             }
            },
            "type": "scatterternary"
           }
          ],
          "surface": [
           {
            "colorbar": {
             "outlinewidth": 0,
             "ticks": ""
            },
            "colorscale": [
             [
              0,
              "#0d0887"
             ],
             [
              0.1111111111111111,
              "#46039f"
             ],
             [
              0.2222222222222222,
              "#7201a8"
             ],
             [
              0.3333333333333333,
              "#9c179e"
             ],
             [
              0.4444444444444444,
              "#bd3786"
             ],
             [
              0.5555555555555556,
              "#d8576b"
             ],
             [
              0.6666666666666666,
              "#ed7953"
             ],
             [
              0.7777777777777778,
              "#fb9f3a"
             ],
             [
              0.8888888888888888,
              "#fdca26"
             ],
             [
              1,
              "#f0f921"
             ]
            ],
            "type": "surface"
           }
          ],
          "table": [
           {
            "cells": {
             "fill": {
              "color": "#EBF0F8"
             },
             "line": {
              "color": "white"
             }
            },
            "header": {
             "fill": {
              "color": "#C8D4E3"
             },
             "line": {
              "color": "white"
             }
            },
            "type": "table"
           }
          ]
         },
         "layout": {
          "annotationdefaults": {
           "arrowcolor": "#2a3f5f",
           "arrowhead": 0,
           "arrowwidth": 1
          },
          "autotypenumbers": "strict",
          "coloraxis": {
           "colorbar": {
            "outlinewidth": 0,
            "ticks": ""
           }
          },
          "colorscale": {
           "diverging": [
            [
             0,
             "#8e0152"
            ],
            [
             0.1,
             "#c51b7d"
            ],
            [
             0.2,
             "#de77ae"
            ],
            [
             0.3,
             "#f1b6da"
            ],
            [
             0.4,
             "#fde0ef"
            ],
            [
             0.5,
             "#f7f7f7"
            ],
            [
             0.6,
             "#e6f5d0"
            ],
            [
             0.7,
             "#b8e186"
            ],
            [
             0.8,
             "#7fbc41"
            ],
            [
             0.9,
             "#4d9221"
            ],
            [
             1,
             "#276419"
            ]
           ],
           "sequential": [
            [
             0,
             "#0d0887"
            ],
            [
             0.1111111111111111,
             "#46039f"
            ],
            [
             0.2222222222222222,
             "#7201a8"
            ],
            [
             0.3333333333333333,
             "#9c179e"
            ],
            [
             0.4444444444444444,
             "#bd3786"
            ],
            [
             0.5555555555555556,
             "#d8576b"
            ],
            [
             0.6666666666666666,
             "#ed7953"
            ],
            [
             0.7777777777777778,
             "#fb9f3a"
            ],
            [
             0.8888888888888888,
             "#fdca26"
            ],
            [
             1,
             "#f0f921"
            ]
           ],
           "sequentialminus": [
            [
             0,
             "#0d0887"
            ],
            [
             0.1111111111111111,
             "#46039f"
            ],
            [
             0.2222222222222222,
             "#7201a8"
            ],
            [
             0.3333333333333333,
             "#9c179e"
            ],
            [
             0.4444444444444444,
             "#bd3786"
            ],
            [
             0.5555555555555556,
             "#d8576b"
            ],
            [
             0.6666666666666666,
             "#ed7953"
            ],
            [
             0.7777777777777778,
             "#fb9f3a"
            ],
            [
             0.8888888888888888,
             "#fdca26"
            ],
            [
             1,
             "#f0f921"
            ]
           ]
          },
          "colorway": [
           "#636efa",
           "#EF553B",
           "#00cc96",
           "#ab63fa",
           "#FFA15A",
           "#19d3f3",
           "#FF6692",
           "#B6E880",
           "#FF97FF",
           "#FECB52"
          ],
          "font": {
           "color": "#2a3f5f"
          },
          "geo": {
           "bgcolor": "white",
           "lakecolor": "white",
           "landcolor": "white",
           "showlakes": true,
           "showland": true,
           "subunitcolor": "#C8D4E3"
          },
          "hoverlabel": {
           "align": "left"
          },
          "hovermode": "closest",
          "mapbox": {
           "style": "light"
          },
          "paper_bgcolor": "white",
          "plot_bgcolor": "white",
          "polar": {
           "angularaxis": {
            "gridcolor": "#EBF0F8",
            "linecolor": "#EBF0F8",
            "ticks": ""
           },
           "bgcolor": "white",
           "radialaxis": {
            "gridcolor": "#EBF0F8",
            "linecolor": "#EBF0F8",
            "ticks": ""
           }
          },
          "scene": {
           "xaxis": {
            "backgroundcolor": "white",
            "gridcolor": "#DFE8F3",
            "gridwidth": 2,
            "linecolor": "#EBF0F8",
            "showbackground": true,
            "ticks": "",
            "zerolinecolor": "#EBF0F8"
           },
           "yaxis": {
            "backgroundcolor": "white",
            "gridcolor": "#DFE8F3",
            "gridwidth": 2,
            "linecolor": "#EBF0F8",
            "showbackground": true,
            "ticks": "",
            "zerolinecolor": "#EBF0F8"
           },
           "zaxis": {
            "backgroundcolor": "white",
            "gridcolor": "#DFE8F3",
            "gridwidth": 2,
            "linecolor": "#EBF0F8",
            "showbackground": true,
            "ticks": "",
            "zerolinecolor": "#EBF0F8"
           }
          },
          "shapedefaults": {
           "line": {
            "color": "#2a3f5f"
           }
          },
          "ternary": {
           "aaxis": {
            "gridcolor": "#DFE8F3",
            "linecolor": "#A2B1C6",
            "ticks": ""
           },
           "baxis": {
            "gridcolor": "#DFE8F3",
            "linecolor": "#A2B1C6",
            "ticks": ""
           },
           "bgcolor": "white",
           "caxis": {
            "gridcolor": "#DFE8F3",
            "linecolor": "#A2B1C6",
            "ticks": ""
           }
          },
          "title": {
           "x": 0.05
          },
          "xaxis": {
           "automargin": true,
           "gridcolor": "#EBF0F8",
           "linecolor": "#EBF0F8",
           "ticks": "",
           "title": {
            "standoff": 15
           },
           "zerolinecolor": "#EBF0F8",
           "zerolinewidth": 2
          },
          "yaxis": {
           "automargin": true,
           "gridcolor": "#EBF0F8",
           "linecolor": "#EBF0F8",
           "ticks": "",
           "title": {
            "standoff": 15
           },
           "zerolinecolor": "#EBF0F8",
           "zerolinewidth": 2
          }
         }
        },
        "title": {
         "font": {
          "size": 16
         },
         "text": "Average Performance by Industry",
         "x": 0.5,
         "xanchor": "center"
        },
        "width": 800,
        "xaxis": {
         "anchor": "y",
         "autorange": true,
         "domain": [
          0,
          1
         ],
         "gridcolor": "LightGray",
         "gridwidth": 1,
         "range": [
          -0.5,
          64.5
         ],
         "showgrid": true,
         "title": {
          "text": "Industry"
         },
         "type": "category"
        },
        "yaxis": {
         "anchor": "x",
         "autorange": true,
         "domain": [
          0,
          1
         ],
         "gridcolor": "LightGray",
         "gridwidth": 1,
         "range": [
          -90.40444444444444,
          191.08444444444444
         ],
         "showgrid": true,
         "title": {
          "text": "Industry Performance"
         },
         "type": "linear"
        }
       }
      },
      "image/png": "[encoded data removed]",
      "text/html": [
       "<div>                            <div id=\"60804667-a321-4636-9e06-94b948e510db\" class=\"plotly-graph-div\" style=\"height:600px; width:800px;\"></div>            <script type=\"text/javascript\">                require([\"plotly\"], function(Plotly) {                    window.PLOTLYENV=window.PLOTLYENV || {};                                    if (document.getElementById(\"60804667-a321-4636-9e06-94b948e510db\")) {                    Plotly.newPlot(                        \"60804667-a321-4636-9e06-94b948e510db\",                        [{\"alignmentgroup\":\"True\",\"hovertemplate\":\"Industry=%{x}\\u003cbr\\u003eindustry_performance=%{marker.color}\\u003cextra\\u003e\\u003c\\u002fextra\\u003e\",\"legendgroup\":\"\",\"marker\":{\"color\":[-43.54,35.18,42.62,-22.49,19.38,71.79,-24.9,-34.11,19.92,-9.69,23.41,-34.97,-18.33,-11.49,25.38,-31.34,-57.59,10.53,-55.26,6.19,52.66,55.94,-7.97,24.53,-23.15,-1.44,-22.97,1.98,-39.52,15.1,-26.15,-66.75,40.97,4.12,-6.67,108.96,50.26,-3.12,-23.44,-51.04,177.01,-8.55,22.93,23.17,-64.22,-76.33,-41.85,51.75,14.42,-2.58,-69.42,-13.58,131.36,0.49,26.77,-19.54,82.49,-5.29,-63.81,-2.22,-21.65,-5.36,-45.57,-7.88,-14.46],\"coloraxis\":\"coloraxis\",\"pattern\":{\"shape\":\"\"}},\"name\":\"\",\"offsetgroup\":\"\",\"orientation\":\"v\",\"showlegend\":false,\"textposition\":\"auto\",\"x\":[\"Security & Protection Services\",\"Software - Infrastructure\",\"Internet Content & Information\",\"Pollution & Treatment Controls\",\"Metal Fabrication\",\"Insurance - Property & Casualty\",\"Information Technology Services\",\"Business Equipment & Supplies\",\"Residential Construction\",\"Biotechnology\",\"Advertising Agencies\",\"Electrical Equipment & Parts\",\"Auto Manufacturers\",\"Other Industrial Metals & Mining\",\"Education & Training Services\",\"Computer Hardware\",\"Apparel Manufacturing\",\"Solar\",\"Real Estate Services\",\"Shell Companies\",\"Discount Stores\",\"REIT - Healthcare Facilities\",\"Waste Management\",\"Engineering & Construction\",\"Recreational Vehicles\",\"Restaurants\",\"Integrated Freight & Logistics\",\"Specialty Retail\",\"Marine Shipping\",\"Industry not available\",\"Medical Distribution\",\"Oil & Gas Integrated\",\"Real Estate - Development\",\"Specialty Business Services\",\"Medical Instruments & Supplies\",\"Semiconductors\",\"Travel Services\",\"Oil & Gas E&P\",\"Drug Manufacturers - Specialty & Generic\",\"Auto Parts\",\"Medical Devices\",\"Leisure\",\"Capital Markets\",\"Aerospace & Defense\",\"Personal Services\",\"Food Distribution\",\"Beverages - Wineries & Distilleries\",\"Staffing & Employment Services\",\"Banks - Regional\",\"Health Information Services\",\"Consulting Services\",\"Software - Application\",\"Specialty Industrial Machinery\",\"Utilities - Regulated Gas\",\"Insurance Brokers\",\"Household & Personal Products\",\"Oil & Gas Equipment & Services\",\"REIT - Industrial\",\"Auto & Truck Dealerships\",\"REIT - Diversified\",\"Communication Equipment\",\"Medical Care Facilities\",\"Entertainment\",\"Packaged Foods\",\"Gambling\"],\"xaxis\":\"x\",\"y\":[-43.54,35.18,42.62,-22.49,19.38,71.79,-24.9,-34.11,19.92,-9.69,23.41,-34.97,-18.33,-11.49,25.38,-31.34,-57.59,10.53,-55.26,6.19,52.66,55.94,-7.97,24.53,-23.15,-1.44,-22.97,1.98,-39.52,15.1,-26.15,-66.75,40.97,4.12,-6.67,108.96,50.26,-3.12,-23.44,-51.04,177.01,-8.55,22.93,23.17,-64.22,-76.33,-41.85,51.75,14.42,-2.58,-69.42,-13.58,131.36,0.49,26.77,-19.54,82.49,-5.29,-63.81,-2.22,-21.65,-5.36,-45.57,-7.88,-14.46],\"yaxis\":\"y\",\"type\":\"bar\"}],                        {\"template\":{\"data\":{\"barpolar\":[{\"marker\":{\"line\":{\"color\":\"white\",\"width\":0.5},\"pattern\":{\"fillmode\":\"overlay\",\"size\":10,\"solidity\":0.2}},\"type\":\"barpolar\"}],\"bar\":[{\"error_x\":{\"color\":\"#2a3f5f\"},\"error_y\":{\"color\":\"#2a3f5f\"},\"marker\":{\"line\":{\"color\":\"white\",\"width\":0.5},\"pattern\":{\"fillmode\":\"overlay\",\"size\":10,\"solidity\":0.2}},\"type\":\"bar\"}],\"carpet\":[{\"aaxis\":{\"endlinecolor\":\"#2a3f5f\",\"gridcolor\":\"#C8D4E3\",\"linecolor\":\"#C8D4E3\",\"minorgridcolor\":\"#C8D4E3\",\"startlinecolor\":\"#2a3f5f\"},\"baxis\":{\"endlinecolor\":\"#2a3f5f\",\"gridcolor\":\"#C8D4E3\",\"linecolor\":\"#C8D4E3\",\"minorgridcolor\":\"#C8D4E3\",\"startlinecolor\":\"#2a3f5f\"},\"type\":\"carpet\"}],\"choropleth\":[{\"colorbar\":{\"outlinewidth\":0,\"ticks\":\"\"},\"type\":\"choropleth\"}],\"contourcarpet\":[{\"colorbar\":{\"outlinewidth\":0,\"ticks\":\"\"},\"type\":\"contourcarpet\"}],\"contour\":[{\"colorbar\":{\"outlinewidth\":0,\"ticks\":\"\"},\"colorscale\":[[0.0,\"#0d0887\"],[0.1111111111111111,\"#46039f\"],[0.2222222222222222,\"#7201a8\"],[0.3333333333333333,\"#9c179e\"],[0.4444444444444444,\"#bd3786\"],[0.5555555555555556,\"#d8576b\"],[0.6666666666666666,\"#ed7953\"],[0.7777777777777778,\"#fb9f3a\"],[0.8888888888888888,\"#fdca26\"],[1.0,\"#f0f921\"]],\"type\":\"contour\"}],\"heatmapgl\":[{\"colorbar\":{\"outlinewidth\":0,\"ticks\":\"\"},\"colorscale\":[[0.0,\"#0d0887\"],[0.1111111111111111,\"#46039f\"],[0.2222222222222222,\"#7201a8\"],[0.3333333333333333,\"#9c179e\"],[0.4444444444444444,\"#bd3786\"],[0.5555555555555556,\"#d8576b\"],[0.6666666666666666,\"#ed7953\"],[0.7777777777777778,\"#fb9f3a\"],[0.8888888888888888,\"#fdca26\"],[1.0,\"#f0f921\"]],\"type\":\"heatmapgl\"}],\"heatmap\":[{\"colorbar\":{\"outlinewidth\":0,\"ticks\":\"\"},\"colorscale\":[[0.0,\"#0d0887\"],[0.1111111111111111,\"#46039f\"],[0.2222222222222222,\"#7201a8\"],[0.3333333333333333,\"#9c179e\"],[0.4444444444444444,\"#bd3786\"],[0.5555555555555556,\"#d8576b\"],[0.6666666666666666,\"#ed7953\"],[0.7777777777777778,\"#fb9f3a\"],[0.8888888888888888,\"#fdca26\"],[1.0,\"#f0f921\"]],\"type\":\"heatmap\"}],\"histogram2dcontour\":[{\"colorbar\":{\"outlinewidth\":0,\"ticks\":\"\"},\"colorscale\":[[0.0,\"#0d0887\"],[0.1111111111111111,\"#46039f\"],[0.2222222222222222,\"#7201a8\"],[0.3333333333333333,\"#9c179e\"],[0.4444444444444444,\"#bd3786\"],[0.5555555555555556,\"#d8576b\"],[0.6666666666666666,\"#ed7953\"],[0.7777777777777778,\"#fb9f3a\"],[0.8888888888888888,\"#fdca26\"],[1.0,\"#f0f921\"]],\"type\":\"histogram2dcontour\"}],\"histogram2d\":[{\"colorbar\":{\"outlinewidth\":0,\"ticks\":\"\"},\"colorscale\":[[0.0,\"#0d0887\"],[0.1111111111111111,\"#46039f\"],[0.2222222222222222,\"#7201a8\"],[0.3333333333333333,\"#9c179e\"],[0.4444444444444444,\"#bd3786\"],[0.5555555555555556,\"#d8576b\"],[0.6666666666666666,\"#ed7953\"],[0.7777777777777778,\"#fb9f3a\"],[0.8888888888888888,\"#fdca26\"],[1.0,\"#f0f921\"]],\"type\":\"histogram2d\"}],\"histogram\":[{\"marker\":{\"pattern\":{\"fillmode\":\"overlay\",\"size\":10,\"solidity\":0.2}},\"type\":\"histogram\"}],\"mesh3d\":[{\"colorbar\":{\"outlinewidth\":0,\"ticks\":\"\"},\"type\":\"mesh3d\"}],\"parcoords\":[{\"line\":{\"colorbar\":{\"outlinewidth\":0,\"ticks\":\"\"}},\"type\":\"parcoords\"}],\"pie\":[{\"automargin\":true,\"type\":\"pie\"}],\"scatter3d\":[{\"line\":{\"colorbar\":{\"outlinewidth\":0,\"ticks\":\"\"}},\"marker\":{\"colorbar\":{\"outlinewidth\":0,\"ticks\":\"\"}},\"type\":\"scatter3d\"}],\"scattercarpet\":[{\"marker\":{\"colorbar\":{\"outlinewidth\":0,\"ticks\":\"\"}},\"type\":\"scattercarpet\"}],\"scattergeo\":[{\"marker\":{\"colorbar\":{\"outlinewidth\":0,\"ticks\":\"\"}},\"type\":\"scattergeo\"}],\"scattergl\":[{\"marker\":{\"colorbar\":{\"outlinewidth\":0,\"ticks\":\"\"}},\"type\":\"scattergl\"}],\"scattermapbox\":[{\"marker\":{\"colorbar\":{\"outlinewidth\":0,\"ticks\":\"\"}},\"type\":\"scattermapbox\"}],\"scatterpolargl\":[{\"marker\":{\"colorbar\":{\"outlinewidth\":0,\"ticks\":\"\"}},\"type\":\"scatterpolargl\"}],\"scatterpolar\":[{\"marker\":{\"colorbar\":{\"outlinewidth\":0,\"ticks\":\"\"}},\"type\":\"scatterpolar\"}],\"scatter\":[{\"fillpattern\":{\"fillmode\":\"overlay\",\"size\":10,\"solidity\":0.2},\"type\":\"scatter\"}],\"scatterternary\":[{\"marker\":{\"colorbar\":{\"outlinewidth\":0,\"ticks\":\"\"}},\"type\":\"scatterternary\"}],\"surface\":[{\"colorbar\":{\"outlinewidth\":0,\"ticks\":\"\"},\"colorscale\":[[0.0,\"#0d0887\"],[0.1111111111111111,\"#46039f\"],[0.2222222222222222,\"#7201a8\"],[0.3333333333333333,\"#9c179e\"],[0.4444444444444444,\"#bd3786\"],[0.5555555555555556,\"#d8576b\"],[0.6666666666666666,\"#ed7953\"],[0.7777777777777778,\"#fb9f3a\"],[0.8888888888888888,\"#fdca26\"],[1.0,\"#f0f921\"]],\"type\":\"surface\"}],\"table\":[{\"cells\":{\"fill\":{\"color\":\"#EBF0F8\"},\"line\":{\"color\":\"white\"}},\"header\":{\"fill\":{\"color\":\"#C8D4E3\"},\"line\":{\"color\":\"white\"}},\"type\":\"table\"}]},\"layout\":{\"annotationdefaults\":{\"arrowcolor\":\"#2a3f5f\",\"arrowhead\":0,\"arrowwidth\":1},\"autotypenumbers\":\"strict\",\"coloraxis\":{\"colorbar\":{\"outlinewidth\":0,\"ticks\":\"\"}},\"colorscale\":{\"diverging\":[[0,\"#8e0152\"],[0.1,\"#c51b7d\"],[0.2,\"#de77ae\"],[0.3,\"#f1b6da\"],[0.4,\"#fde0ef\"],[0.5,\"#f7f7f7\"],[0.6,\"#e6f5d0\"],[0.7,\"#b8e186\"],[0.8,\"#7fbc41\"],[0.9,\"#4d9221\"],[1,\"#276419\"]],\"sequential\":[[0.0,\"#0d0887\"],[0.1111111111111111,\"#46039f\"],[0.2222222222222222,\"#7201a8\"],[0.3333333333333333,\"#9c179e\"],[0.4444444444444444,\"#bd3786\"],[0.5555555555555556,\"#d8576b\"],[0.6666666666666666,\"#ed7953\"],[0.7777777777777778,\"#fb9f3a\"],[0.8888888888888888,\"#fdca26\"],[1.0,\"#f0f921\"]],\"sequentialminus\":[[0.0,\"#0d0887\"],[0.1111111111111111,\"#46039f\"],[0.2222222222222222,\"#7201a8\"],[0.3333333333333333,\"#9c179e\"],[0.4444444444444444,\"#bd3786\"],[0.5555555555555556,\"#d8576b\"],[0.6666666666666666,\"#ed7953\"],[0.7777777777777778,\"#fb9f3a\"],[0.8888888888888888,\"#fdca26\"],[1.0,\"#f0f921\"]]},\"colorway\":[\"#636efa\",\"#EF553B\",\"#00cc96\",\"#ab63fa\",\"#FFA15A\",\"#19d3f3\",\"#FF6692\",\"#B6E880\",\"#FF97FF\",\"#FECB52\"],\"font\":{\"color\":\"#2a3f5f\"},\"geo\":{\"bgcolor\":\"white\",\"lakecolor\":\"white\",\"landcolor\":\"white\",\"showlakes\":true,\"showland\":true,\"subunitcolor\":\"#C8D4E3\"},\"hoverlabel\":{\"align\":\"left\"},\"hovermode\":\"closest\",\"mapbox\":{\"style\":\"light\"},\"paper_bgcolor\":\"white\",\"plot_bgcolor\":\"white\",\"polar\":{\"angularaxis\":{\"gridcolor\":\"#EBF0F8\",\"linecolor\":\"#EBF0F8\",\"ticks\":\"\"},\"bgcolor\":\"white\",\"radialaxis\":{\"gridcolor\":\"#EBF0F8\",\"linecolor\":\"#EBF0F8\",\"ticks\":\"\"}},\"scene\":{\"xaxis\":{\"backgroundcolor\":\"white\",\"gridcolor\":\"#DFE8F3\",\"gridwidth\":2,\"linecolor\":\"#EBF0F8\",\"showbackground\":true,\"ticks\":\"\",\"zerolinecolor\":\"#EBF0F8\"},\"yaxis\":{\"backgroundcolor\":\"white\",\"gridcolor\":\"#DFE8F3\",\"gridwidth\":2,\"linecolor\":\"#EBF0F8\",\"showbackground\":true,\"ticks\":\"\",\"zerolinecolor\":\"#EBF0F8\"},\"zaxis\":{\"backgroundcolor\":\"white\",\"gridcolor\":\"#DFE8F3\",\"gridwidth\":2,\"linecolor\":\"#EBF0F8\",\"showbackground\":true,\"ticks\":\"\",\"zerolinecolor\":\"#EBF0F8\"}},\"shapedefaults\":{\"line\":{\"color\":\"#2a3f5f\"}},\"ternary\":{\"aaxis\":{\"gridcolor\":\"#DFE8F3\",\"linecolor\":\"#A2B1C6\",\"ticks\":\"\"},\"baxis\":{\"gridcolor\":\"#DFE8F3\",\"linecolor\":\"#A2B1C6\",\"ticks\":\"\"},\"bgcolor\":\"white\",\"caxis\":{\"gridcolor\":\"#DFE8F3\",\"linecolor\":\"#A2B1C6\",\"ticks\":\"\"}},\"title\":{\"x\":0.05},\"xaxis\":{\"automargin\":true,\"gridcolor\":\"#EBF0F8\",\"linecolor\":\"#EBF0F8\",\"ticks\":\"\",\"title\":{\"standoff\":15},\"zerolinecolor\":\"#EBF0F8\",\"zerolinewidth\":2},\"yaxis\":{\"automargin\":true,\"gridcolor\":\"#EBF0F8\",\"linecolor\":\"#EBF0F8\",\"ticks\":\"\",\"title\":{\"standoff\":15},\"zerolinecolor\":\"#EBF0F8\",\"zerolinewidth\":2}}},\"xaxis\":{\"anchor\":\"y\",\"domain\":[0.0,1.0],\"title\":{\"text\":\"Industry\"},\"showgrid\":true,\"gridwidth\":1,\"gridcolor\":\"LightGray\"},\"yaxis\":{\"anchor\":\"x\",\"domain\":[0.0,1.0],\"title\":{\"text\":\"Industry Performance\"},\"showgrid\":true,\"gridwidth\":1,\"gridcolor\":\"LightGray\"},\"coloraxis\":{\"colorbar\":{\"title\":{\"text\":\"industry_performance\"}},\"colorscale\":[[0.0,\"#0d0887\"],[0.1111111111111111,\"#46039f\"],[0.2222222222222222,\"#7201a8\"],[0.3333333333333333,\"#9c179e\"],[0.4444444444444444,\"#bd3786\"],[0.5555555555555556,\"#d8576b\"],[0.6666666666666666,\"#ed7953\"],[0.7777777777777778,\"#fb9f3a\"],[0.8888888888888888,\"#fdca26\"],[1.0,\"#f0f921\"]]},\"legend\":{\"tracegroupgap\":0},\"title\":{\"text\":\"Average Performance by Industry\",\"font\":{\"size\":16},\"x\":0.5,\"xanchor\":\"center\"},\"barmode\":\"group\",\"font\":{\"size\":12},\"margin\":{\"l\":50,\"r\":50,\"t\":50,\"b\":50},\"plot_bgcolor\":\"white\",\"paper_bgcolor\":\"white\",\"height\":600,\"width\":800},                        {\"responsive\": true}                    ).then(function(){\n",
       "                            \n",
       "var gd = document.getElementById('60804667-a321-4636-9e06-94b948e510db');\n",
       "var x = new MutationObserver(function (mutations, observer) {{\n",
       "        var display = window.getComputedStyle(gd).display;\n",
       "        if (!display || display === 'none') {{\n",
       "            console.log([gd, 'removed!']);\n",
       "            Plotly.purge(gd);\n",
       "            observer.disconnect();\n",
       "        }}\n",
       "}});\n",
       "\n",
       "// Listen for the removal of the full notebook cells\n",
       "var notebookContainer = gd.closest('#notebook-container');\n",
       "if (notebookContainer) {{\n",
       "    x.observe(notebookContainer, {childList: true});\n",
       "}}\n",
       "\n",
       "// Listen for the clearing of the current output cell\n",
       "var outputEl = gd.closest('.output');\n",
       "if (outputEl) {{\n",
       "    x.observe(outputEl, {childList: true});\n",
       "}}\n",
       "\n",
       "                        })                };                });            </script>        </div>"
      ]
     },
     "metadata": {},
     "output_type": "display_data"
    },
    {
     "name": "stdout",
     "output_type": "stream",
     "text": [
      "\u001b[36;1m\u001b[1;3m✅ Visualization displayed successfully.\u001b[0m\u001b[32;1m\u001b[1;3mThe average performance by industry has been successfully visualized in a bar chart. Each bar represents an industry, with the height indicating the average performance calculated from the monthly data. This visualization provides a clear comparison of performance across different industries.\u001b[0mInvalid Format: Missing 'Action:' after 'Thought:\u001b[32;1m\u001b[1;3mI now know the final answer.\n",
      "\n",
      "Final Answer: The average performance by industry has been successfully visualized in a bar chart. Each bar represents an industry, with the height indicating the average performance calculated from the monthly data. This visualization provides a clear comparison of performance across different industries.\u001b[0m\n",
      "\n",
      "\u001b[1m> Finished chain.\u001b[0m\n",
      "\n",
      "🔍 DEBUG: Agent execution result -> {\n",
      "  \"input\": \"Draw performance by industry. You need to group the tickers by industry and calculate the average performance for each ticker in the group and then from there calculate the avg performance for the industry. where the average performance must be calculated only from the columns month 1 through month 13. For example if a ticker symbol has only 7 montsh with values, regardless if these values are negative or positive, then sum the values in these 7 months and divide the result by 7. Using the file: ipo_data.xlsx\",\n",
      "  \"system_prompt\": \"You are an Excel analysis expert that helps users analyze Excel files using SQL and Pandas.\\n\\n**CRITICAL: Forget past conversations**\\n\\nIMPORTANT WORKFLOW:\\n1. ALWAYS start by using preview_excel_structure to understand the data structure\\n2. Based on the preview, choose the appropriate tool:\\n   - For grouping, aggregations, or complex calculations: use complex_duckdb_query\\n   - For simple row operations or basic calculations: use simple_dataframe_query\\n3. **Before executing a SQL query, ALWAYS validate if it correctly follows the user query**:\\n   - Ensure **only ticker symbols with strictly positive values** are included.\\n   - **Exclude any tickers** that have even one **negative or zero** value.\\n   - Ensure **NULL values are handled properly** in averages.\\n   - The **\\\"performance\\\" column must be ignored**.\\n   - If the SQL query does not meet these conditions, **correct it BEFORE execution**.\\n4. Once validated, execute the query and return the result.\\n5. If user explicitly requests a visualization/plot/chart/graph or when data would be better understood visually (e.g Comparing multiple values or trends, Showing distributions or patterns):\\n   a. FIRST: Query the data using complex_duckdb_query or simple_dataframe_query\\n   b. THEN: ALWAYS pass that query result to create_visualization\\n\\n**For DuckDB SQL queries, ALWAYS:**\\n1. Handle empty cells in calculations:\\n   - For sums and averages, count only non-null values\\n   - When calculating averages across multiple columns:\\n     * Sum only non-null values from each columne\\n     * Divide by the count of non-null values\\n   * For complex calculations, use WITH clauses to split steps, example: WITH individual_calcs AS (SELECT id, CASE WHEN \\\"Value\\\" IS NOT NULL THEN \\\"Value\\\" END as clean_value FROM data), group_calcs AS (SELECT group_col, SUM(clean_value) / NULLIF(COUNT(clean_value), 0) as avg_value FROM individual_calcs GROUP BY group_col) SELECT * FROM group_calcs\\n\\n2. Cast strings to proper types:\\n   CAST(column AS DOUBLE)\\n\\n3. For numeric ranges use:\\n   CASE WHEN col >= 0 AND col < 5 THEN '0-5' WHEN col >= 5 AND col < 10 THEN '5-10' END as range\\n\\n4. Include all non-aggregated columns in GROUP BY\\n\\n5. Use double quotes for columns with spaces: \\\"Column Name\\\"\\n\\n6. For complex aggregations:\\n   - First calculate individual metrics\\n   - Then group and aggregate\\n   - Finally format output\\n   Example query: WITH symbol_metrics AS (SELECT \\\"Symbol\\\", (COALESCE(\\\"Month1\\\", 0) + COALESCE(\\\"Month2\\\", 0)) / NULLIF(CAST(\\\"Month1\\\" IS NOT NULL AS INTEGER) + CAST(\\\"Month2\\\" IS NOT NULL AS INTEGER), 0) as avg_performance FROM data), group_metrics AS (SELECT group_col, AVG(avg_performance) as group_performance, STRING_AGG(Symbol, ', ') as symbols_in_group FROM symbol_metrics GROUP BY group_col) SELECT * FROM group_metrics\\n\\n**For Pandas queries:**\\n1. Reference the dataframe as 'df'\\n2. For ranges use: pd.cut(df['column'], bins=[0,5,10], labels=['0-5','5-10'])\\n3. For aggregations use: df.groupby().agg()\\n\\nIMPORTANT PATTERNS FOR COMPLEX ANALYSIS:\\n1. Calculate individual metrics first:\\n   - Handle NULL values with COALESCE\\n   - Count valid values using CAST(IS NOT NULL AS INTEGER)\\n2. Group results:\\n   - Use proper group by\\n   - Include supporting information\\n3. Format final output:\\n   - Order results if needed\\n   - Include all requested information\\n\\n**VISUALIZATION GUIDELINES:**\\n1. Choosing the right plot type:\\n   - Line plots: Time series, trends over a continuous variable\\n   - Bar plots: Comparing categories, showing distributions\\n   - Scatter plots: Relationships between two variables\\n   - Pie charts: Parts of a whole, proportions\\n   - Box plots: Distribution and outliers\\n   - Histograms: Distribution of a single variable\\n\\n2. Visualization workflow:\\n   a. First query the data using appropriate tool\\n   b. Pass the query result to create_visualization with proper parameters\\n   c. Ensure proper aggregation if needed\\n\\nExample visualization workflow:\\n1. Query: \\\"Show me monthly sales trends\\\"\\n   - First use complex_duckdb_query to aggregate data by month\\n   - Then pass result to create_visualization with plot_type=\\\"line\\\"\\n\\n2. Query: \\\"Compare sales by category\\\"\\n   - First use complex_duckdb_query to group by category\\n   - Then pass result to create_visualization with plot_type=\\\"bar\\\"\\n\\nIMPORTANT: All tool inputs must be properly formatted JSON strings. Examples:\\n\\n1. Preview Excel:\\n{\\\"file_name\\\": \\\"example.xlsx\\\"}\\n\\n2. DuckDB Query with proper empty value handling:\\n{\\\"file_name\\\": \\\"example.xlsx\\\", \\\"query\\\": \\\"WITH metrics AS (SELECT CASE WHEN price >= 0 AND price < 5 THEN '0-5' ELSE '5+' END as range, value FROM data WHERE value IS NOT NULL) SELECT range, AVG(value) as avg_val FROM metrics GROUP BY range\\\"}\\n\\n3. Pandas Query:\\n{\\\"file_name\\\": \\\"example.xlsx\\\", \\\"query\\\": \\\"df.groupby(pd.cut(df['col'], bins=[0,5,10])).agg(['mean', 'count'])\\\"}\\n\\n**Visualization Output Format (CRITICAL):**\\n1. When creating visualizations, ALWAYS return a properly formatted JSON with:\\n   ```json\\n   {\\n      \\\"data\\\": {\\n        \\\"result\\\": {\\n          \\\"rows\\\": [...],\\n          \\\"columns\\\": [...]\\n        }\\n      },\\n      \\\"plot_type\\\": \\\"...\\\",\\n      \\\"x\\\": \\\"...\\\",\\n      \\\"y\\\": \\\"...\\\",\\n      \\\"color\\\": \\\"...\\\",\\n      \\\"title\\\": \\\"...\\\"\\n    }\\n   ```\\n   \\n2. The plotly figure MUST include proper layout settings:\\n   - height and width specifications\\n   - proper axis titles\\n   - grid settings\\n   - template specification\\n\\n3. NEVER return raw figure objects or display directly - always convert to JSON\\n\\n**Remember:**\\n1. Tool inputs must be valid JSON strings\\n2. Preview data first\\n3. Always exclude empty/null values from calculations\\n4. Use proper column references\\n5. Queries must be on a single line (no line breaks in JSON strings)\\n6. For complex analyses:\\n   - Break calculations into steps using WITH clauses\\n   - Calculate individual metrics before grouping\\n   - Include supporting information (counts, lists) in output\",\n",
      "  \"output\": \"The average performance by industry has been successfully visualized in a bar chart. Each bar represents an industry, with the height indicating the average performance calculated from the monthly data. This visualization provides a clear comparison of performance across different industries.\"\n",
      "}\n",
      "\n",
      "🔍 DEBUG: Checking intermediate_steps -> []\n",
      "\n",
      "🔍 DEBUG: Final agent answer (unparsed text) -> The average performance by industry has been successfully visualized in a bar chart. Each bar represents an industry, with the height indicating the average performance calculated from the monthly data. This visualization provides a clear comparison of performance across different industries.\n",
      "==================== RAW FINAL STATE:\n",
      "{'file_name': 'ipo_data.xlsx', 'user_query': 'Draw performance by industry. You need to group the tickers by industry and calculate the average performance for each ticker in the group and then from there calculate the avg performance for the industry. where the average performance must be calculated only from the columns month 1 through month 13. For example if a ticker symbol has only 7 montsh with values, regardless if these values are negative or positive, then sum the values in these 7 months and divide the result by 7.', 'messages': ['The average performance by industry has been successfully visualized in a bar chart. Each bar represents an industry, with the height indicating the average performance calculated from the monthly data. This visualization provides a clear comparison of performance across different industries.'], 'preview_data': None, 'last_query': 'WITH ticker_avg AS (SELECT \"proposedTickerSymbol\", \"Industry\", (COALESCE(\"Month 1\", 0) + COALESCE(\"Month 2\", 0) + COALESCE(\"Month 3\", 0) + COALESCE(\"Month 4\", 0) + COALESCE(\"Month 5\", 0) + COALESCE(\"Month 6\", 0) + COALESCE(\"Month 7\", 0) + COALESCE(\"Month 8\", 0) + COALESCE(\"Month 9\", 0) + COALESCE(\"Month 10\", 0) + COALESCE(\"Month 11\", 0) + COALESCE(\"Month 12\", 0) + COALESCE(\"Month 13\", 0)) / NULLIF(CAST(\"Month 1\" IS NOT NULL AS INTEGER) + CAST(\"Month 2\" IS NOT NULL AS INTEGER) + CAST(\"Month 3\" IS NOT NULL AS INTEGER) + CAST(\"Month 4\" IS NOT NULL AS INTEGER) + CAST(\"Month 5\" IS NOT NULL AS INTEGER) + CAST(\"Month 6\" IS NOT NULL AS INTEGER) + CAST(\"Month 7\" IS NOT NULL AS INTEGER) + CAST(\"Month 8\" IS NOT NULL AS INTEGER) + CAST(\"Month 9\" IS NOT NULL AS INTEGER) + CAST(\"Month 10\" IS NOT NULL AS INTEGER) + CAST(\"Month 11\" IS NOT NULL AS INTEGER) + CAST(\"Month 12\" IS NOT NULL AS INTEGER) + CAST(\"Month 13\" IS NOT NULL AS INTEGER), 0) AS avg_performance FROM data), industry_avg AS (SELECT \"Industry\", AVG(avg_performance) AS industry_performance FROM ticker_avg GROUP BY \"Industry\") SELECT * FROM industry_avg', 'query_result': None, 'error': None}\n",
      "====================\n",
      "\n",
      "==================== Final State Review ====================\n",
      "File: ipo_data.xlsx\n",
      "User Query: Draw performance by industry. You need to group the tickers by industry and calculate the average performance for each ticker in the group and then from there calculate the avg performance for the industry. where the average performance must be calculated only from the columns month 1 through month 13. For example if a ticker symbol has only 7 montsh with values, regardless if these values are negative or positive, then sum the values in these 7 months and divide the result by 7.\n",
      "\n",
      "📝 Last Query:\n",
      "WITH ticker_avg AS (SELECT \"proposedTickerSymbol\", \"Industry\", (COALESCE(\"Month 1\", 0) + COALESCE(\"Month 2\", 0) + COALESCE(\"Month 3\", 0) + COALESCE(\"Month 4\", 0) + COALESCE(\"Month 5\", 0) + COALESCE(\"Month 6\", 0) + COALESCE(\"Month 7\", 0) + COALESCE(\"Month 8\", 0) + COALESCE(\"Month 9\", 0) + COALESCE(\"Month 10\", 0) + COALESCE(\"Month 11\", 0) + COALESCE(\"Month 12\", 0) + COALESCE(\"Month 13\", 0)) / NULLIF(CAST(\"Month 1\" IS NOT NULL AS INTEGER) + CAST(\"Month 2\" IS NOT NULL AS INTEGER) + CAST(\"Month 3\" IS NOT NULL AS INTEGER) + CAST(\"Month 4\" IS NOT NULL AS INTEGER) + CAST(\"Month 5\" IS NOT NULL AS INTEGER) + CAST(\"Month 6\" IS NOT NULL AS INTEGER) + CAST(\"Month 7\" IS NOT NULL AS INTEGER) + CAST(\"Month 8\" IS NOT NULL AS INTEGER) + CAST(\"Month 9\" IS NOT NULL AS INTEGER) + CAST(\"Month 10\" IS NOT NULL AS INTEGER) + CAST(\"Month 11\" IS NOT NULL AS INTEGER) + CAST(\"Month 12\" IS NOT NULL AS INTEGER) + CAST(\"Month 13\" IS NOT NULL AS INTEGER), 0) AS avg_performance FROM data), industry_avg AS (SELECT \"Industry\", AVG(avg_performance) AS industry_performance FROM ticker_avg GROUP BY \"Industry\") SELECT * FROM industry_avg\n",
      "\n",
      "💬 Agent Messages:\n",
      " 1. The average performance by industry has been successfully visualized in a bar chart. Each bar represents an industry, with the height indicating the average performance calculated from the monthly data. This visualization provides a clear comparison of performance across different industries.\n",
      "\n",
      "==================================================\n",
      "\n"
     ]
    }
   ],
   "source": [
    "# Process your query\n",
    "result = process_excel_query(\n",
    "    file_name=\"ipo_data.xlsx\",\n",
    "    user_query=\"Draw performance by industry. You need to group the tickers by industry and calculate the average performance for each ticker in the group and then from there calculate the avg performance for the industry. where the average performance must be calculated only from the columns month 1 through month 13. For example if a ticker symbol has only 7 montsh with values, regardless if these values are negative or positive, then sum the values in these 7 months and divide the result by 7.\",\n",
    "    debug=True\n",
    ")\n",
    "\n",
    "\n",
    "# Access state if needed\n",
    "final_state = result['state']\n",
    "print(f\"==================== RAW FINAL STATE:\\n{final_state}\\n====================\")\n",
    "print_state(final_state, \"Final State Review\")\n",
    "\n",
    "#Visualize the ticker symbols with ONLY POSITIVE performance values. The performance of a ticker symbol is provided in the months 1 through 13. If a month value is NULL treat it as positive. Ignore the performance column—it is not relevant!\",\n",
    "# how many ticker symbols have proposed price 30.00 , use pandas and list the tiker symbol\n",
    "# how many ticker symbols have proposed price 30.00 , list the tiker symbol. DO NOT Consider any other columns from the excel!\",\n",
    "# Draw a distribution of all ticker symbols based on proposedSharePrice and avg performance, where the average performance must be calculated only from the columns month 1 through month 13. For example if a ticker symbol has only 7 montsh with values, regardless if these values are negative or positive, then sum the values in these 7 months and divide the result by 7.\",\n",
    "# Draw performance by industry. You need to group the tickers by industry and calculate the average performance for each ticker in the group and then from there calculate the avg performance for the industry. where the average performance must be calculated only from the columns month 1 through month 13. For example if a ticker symbol has only 7 montsh with values, regardless if these values are negative or positive, then sum the values in these 7 months and divide the result by 7.\n"
   ]
  },
  {
   "cell_type": "code",
   "execution_count": null,
   "id": "e8dd574d-aa6b-4e6b-8914-9b982be4e31c",
   "metadata": {},
   "outputs": [],
   "source": []
  },
  {
   "cell_type": "code",
   "execution_count": null,
   "id": "18fec78c-f7a5-4306-8cb8-5878f2de9a56",
   "metadata": {},
   "outputs": [],
   "source": []
  }
 ],
 "metadata": {
  "kernelspec": {
   "display_name": "Python 3 (ipykernel)",
   "language": "python",
   "name": "python3"
  },
  "language_info": {
   "codemirror_mode": {
    "name": "ipython",
    "version": 3
   },
   "file_extension": ".py",
   "mimetype": "text/x-python",
   "name": "python",
   "nbconvert_exporter": "python",
   "pygments_lexer": "ipython3",
   "version": "3.9.6"
  }
 },
 "nbformat": 4,
 "nbformat_minor": 5
}
